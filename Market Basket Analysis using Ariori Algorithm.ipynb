{
 "cells": [
  {
   "cell_type": "markdown",
   "id": "d42f925d",
   "metadata": {},
   "source": [
    "## Task - 2 : Market Based Analysis Using Apriori algorithm"
   ]
  },
  {
   "cell_type": "markdown",
   "id": "7d126174",
   "metadata": {},
   "source": [
    "### Importing neccessary libraries"
   ]
  },
  {
   "cell_type": "code",
   "execution_count": 1,
   "id": "a8c52273",
   "metadata": {},
   "outputs": [],
   "source": [
    "import numpy as np\n",
    "import pandas as pd\n",
    "import matplotlib.pyplot as plt\n",
    "import seaborn as sns\n",
    "import datetime as dt\n",
    "import warnings\n",
    "warnings.filterwarnings('ignore')\n"
   ]
  },
  {
   "cell_type": "code",
   "execution_count": 2,
   "id": "9fa50403",
   "metadata": {},
   "outputs": [],
   "source": [
    "data = pd.read_excel('Online Retail.xlsx')"
   ]
  },
  {
   "cell_type": "code",
   "execution_count": 3,
   "id": "d902175c",
   "metadata": {},
   "outputs": [
    {
     "data": {
      "text/html": [
       "<div>\n",
       "<style scoped>\n",
       "    .dataframe tbody tr th:only-of-type {\n",
       "        vertical-align: middle;\n",
       "    }\n",
       "\n",
       "    .dataframe tbody tr th {\n",
       "        vertical-align: top;\n",
       "    }\n",
       "\n",
       "    .dataframe thead th {\n",
       "        text-align: right;\n",
       "    }\n",
       "</style>\n",
       "<table border=\"1\" class=\"dataframe\">\n",
       "  <thead>\n",
       "    <tr style=\"text-align: right;\">\n",
       "      <th></th>\n",
       "      <th>InvoiceNo</th>\n",
       "      <th>StockCode</th>\n",
       "      <th>Description</th>\n",
       "      <th>Quantity</th>\n",
       "      <th>InvoiceDate</th>\n",
       "      <th>UnitPrice</th>\n",
       "      <th>CustomerID</th>\n",
       "      <th>Country</th>\n",
       "    </tr>\n",
       "  </thead>\n",
       "  <tbody>\n",
       "    <tr>\n",
       "      <th>0</th>\n",
       "      <td>536365</td>\n",
       "      <td>85123A</td>\n",
       "      <td>WHITE HANGING HEART T-LIGHT HOLDER</td>\n",
       "      <td>6</td>\n",
       "      <td>2010-12-01 08:26:00</td>\n",
       "      <td>2.55</td>\n",
       "      <td>17850.0</td>\n",
       "      <td>United Kingdom</td>\n",
       "    </tr>\n",
       "    <tr>\n",
       "      <th>1</th>\n",
       "      <td>536365</td>\n",
       "      <td>71053</td>\n",
       "      <td>WHITE METAL LANTERN</td>\n",
       "      <td>6</td>\n",
       "      <td>2010-12-01 08:26:00</td>\n",
       "      <td>3.39</td>\n",
       "      <td>17850.0</td>\n",
       "      <td>United Kingdom</td>\n",
       "    </tr>\n",
       "    <tr>\n",
       "      <th>2</th>\n",
       "      <td>536365</td>\n",
       "      <td>84406B</td>\n",
       "      <td>CREAM CUPID HEARTS COAT HANGER</td>\n",
       "      <td>8</td>\n",
       "      <td>2010-12-01 08:26:00</td>\n",
       "      <td>2.75</td>\n",
       "      <td>17850.0</td>\n",
       "      <td>United Kingdom</td>\n",
       "    </tr>\n",
       "    <tr>\n",
       "      <th>3</th>\n",
       "      <td>536365</td>\n",
       "      <td>84029G</td>\n",
       "      <td>KNITTED UNION FLAG HOT WATER BOTTLE</td>\n",
       "      <td>6</td>\n",
       "      <td>2010-12-01 08:26:00</td>\n",
       "      <td>3.39</td>\n",
       "      <td>17850.0</td>\n",
       "      <td>United Kingdom</td>\n",
       "    </tr>\n",
       "    <tr>\n",
       "      <th>4</th>\n",
       "      <td>536365</td>\n",
       "      <td>84029E</td>\n",
       "      <td>RED WOOLLY HOTTIE WHITE HEART.</td>\n",
       "      <td>6</td>\n",
       "      <td>2010-12-01 08:26:00</td>\n",
       "      <td>3.39</td>\n",
       "      <td>17850.0</td>\n",
       "      <td>United Kingdom</td>\n",
       "    </tr>\n",
       "  </tbody>\n",
       "</table>\n",
       "</div>"
      ],
      "text/plain": [
       "  InvoiceNo StockCode                          Description  Quantity  \\\n",
       "0    536365    85123A   WHITE HANGING HEART T-LIGHT HOLDER         6   \n",
       "1    536365     71053                  WHITE METAL LANTERN         6   \n",
       "2    536365    84406B       CREAM CUPID HEARTS COAT HANGER         8   \n",
       "3    536365    84029G  KNITTED UNION FLAG HOT WATER BOTTLE         6   \n",
       "4    536365    84029E       RED WOOLLY HOTTIE WHITE HEART.         6   \n",
       "\n",
       "          InvoiceDate  UnitPrice  CustomerID         Country  \n",
       "0 2010-12-01 08:26:00       2.55     17850.0  United Kingdom  \n",
       "1 2010-12-01 08:26:00       3.39     17850.0  United Kingdom  \n",
       "2 2010-12-01 08:26:00       2.75     17850.0  United Kingdom  \n",
       "3 2010-12-01 08:26:00       3.39     17850.0  United Kingdom  \n",
       "4 2010-12-01 08:26:00       3.39     17850.0  United Kingdom  "
      ]
     },
     "execution_count": 3,
     "metadata": {},
     "output_type": "execute_result"
    }
   ],
   "source": [
    "data.head()"
   ]
  },
  {
   "cell_type": "code",
   "execution_count": 4,
   "id": "d04ddcb6",
   "metadata": {},
   "outputs": [
    {
     "data": {
      "text/plain": [
       "(541909, 8)"
      ]
     },
     "execution_count": 4,
     "metadata": {},
     "output_type": "execute_result"
    }
   ],
   "source": [
    "data.shape"
   ]
  },
  {
   "cell_type": "code",
   "execution_count": 5,
   "id": "f525fd1a",
   "metadata": {},
   "outputs": [
    {
     "data": {
      "text/plain": [
       "array(['InvoiceNo', 'StockCode', 'Description', 'Quantity', 'InvoiceDate',\n",
       "       'UnitPrice', 'CustomerID', 'Country'], dtype=object)"
      ]
     },
     "execution_count": 5,
     "metadata": {},
     "output_type": "execute_result"
    }
   ],
   "source": [
    "data.columns.values"
   ]
  },
  {
   "cell_type": "code",
   "execution_count": 6,
   "id": "62f2e501",
   "metadata": {},
   "outputs": [
    {
     "name": "stdout",
     "output_type": "stream",
     "text": [
      "<class 'pandas.core.frame.DataFrame'>\n",
      "RangeIndex: 541909 entries, 0 to 541908\n",
      "Data columns (total 8 columns):\n",
      " #   Column       Non-Null Count   Dtype         \n",
      "---  ------       --------------   -----         \n",
      " 0   InvoiceNo    541909 non-null  object        \n",
      " 1   StockCode    541909 non-null  object        \n",
      " 2   Description  540455 non-null  object        \n",
      " 3   Quantity     541909 non-null  int64         \n",
      " 4   InvoiceDate  541909 non-null  datetime64[ns]\n",
      " 5   UnitPrice    541909 non-null  float64       \n",
      " 6   CustomerID   406829 non-null  float64       \n",
      " 7   Country      541909 non-null  object        \n",
      "dtypes: datetime64[ns](1), float64(2), int64(1), object(4)\n",
      "memory usage: 33.1+ MB\n"
     ]
    }
   ],
   "source": [
    "data.info()"
   ]
  },
  {
   "cell_type": "code",
   "execution_count": 7,
   "id": "5cdce057",
   "metadata": {},
   "outputs": [
    {
     "data": {
      "text/html": [
       "<div>\n",
       "<style scoped>\n",
       "    .dataframe tbody tr th:only-of-type {\n",
       "        vertical-align: middle;\n",
       "    }\n",
       "\n",
       "    .dataframe tbody tr th {\n",
       "        vertical-align: top;\n",
       "    }\n",
       "\n",
       "    .dataframe thead th {\n",
       "        text-align: right;\n",
       "    }\n",
       "</style>\n",
       "<table border=\"1\" class=\"dataframe\">\n",
       "  <thead>\n",
       "    <tr style=\"text-align: right;\">\n",
       "      <th></th>\n",
       "      <th>Quantity</th>\n",
       "      <th>UnitPrice</th>\n",
       "      <th>CustomerID</th>\n",
       "    </tr>\n",
       "  </thead>\n",
       "  <tbody>\n",
       "    <tr>\n",
       "      <th>count</th>\n",
       "      <td>541909.000000</td>\n",
       "      <td>541909.000000</td>\n",
       "      <td>406829.000000</td>\n",
       "    </tr>\n",
       "    <tr>\n",
       "      <th>mean</th>\n",
       "      <td>9.552250</td>\n",
       "      <td>4.611114</td>\n",
       "      <td>15287.690570</td>\n",
       "    </tr>\n",
       "    <tr>\n",
       "      <th>std</th>\n",
       "      <td>218.081158</td>\n",
       "      <td>96.759853</td>\n",
       "      <td>1713.600303</td>\n",
       "    </tr>\n",
       "    <tr>\n",
       "      <th>min</th>\n",
       "      <td>-80995.000000</td>\n",
       "      <td>-11062.060000</td>\n",
       "      <td>12346.000000</td>\n",
       "    </tr>\n",
       "    <tr>\n",
       "      <th>25%</th>\n",
       "      <td>1.000000</td>\n",
       "      <td>1.250000</td>\n",
       "      <td>13953.000000</td>\n",
       "    </tr>\n",
       "    <tr>\n",
       "      <th>50%</th>\n",
       "      <td>3.000000</td>\n",
       "      <td>2.080000</td>\n",
       "      <td>15152.000000</td>\n",
       "    </tr>\n",
       "    <tr>\n",
       "      <th>75%</th>\n",
       "      <td>10.000000</td>\n",
       "      <td>4.130000</td>\n",
       "      <td>16791.000000</td>\n",
       "    </tr>\n",
       "    <tr>\n",
       "      <th>max</th>\n",
       "      <td>80995.000000</td>\n",
       "      <td>38970.000000</td>\n",
       "      <td>18287.000000</td>\n",
       "    </tr>\n",
       "  </tbody>\n",
       "</table>\n",
       "</div>"
      ],
      "text/plain": [
       "            Quantity      UnitPrice     CustomerID\n",
       "count  541909.000000  541909.000000  406829.000000\n",
       "mean        9.552250       4.611114   15287.690570\n",
       "std       218.081158      96.759853    1713.600303\n",
       "min    -80995.000000  -11062.060000   12346.000000\n",
       "25%         1.000000       1.250000   13953.000000\n",
       "50%         3.000000       2.080000   15152.000000\n",
       "75%        10.000000       4.130000   16791.000000\n",
       "max     80995.000000   38970.000000   18287.000000"
      ]
     },
     "execution_count": 7,
     "metadata": {},
     "output_type": "execute_result"
    }
   ],
   "source": [
    "data.describe()"
   ]
  },
  {
   "cell_type": "markdown",
   "id": "2800a6d6",
   "metadata": {},
   "source": [
    "### Data Cleaning"
   ]
  },
  {
   "cell_type": "code",
   "execution_count": 8,
   "id": "5af52f68",
   "metadata": {},
   "outputs": [],
   "source": [
    "#Converting the invoiceNo column to be string\n",
    "data['InvoiceNo'] = data['InvoiceNo'].astype('str')"
   ]
  },
  {
   "cell_type": "code",
   "execution_count": 9,
   "id": "d232eae5",
   "metadata": {},
   "outputs": [
    {
     "data": {
      "text/html": [
       "<div>\n",
       "<style scoped>\n",
       "    .dataframe tbody tr th:only-of-type {\n",
       "        vertical-align: middle;\n",
       "    }\n",
       "\n",
       "    .dataframe tbody tr th {\n",
       "        vertical-align: top;\n",
       "    }\n",
       "\n",
       "    .dataframe thead th {\n",
       "        text-align: right;\n",
       "    }\n",
       "</style>\n",
       "<table border=\"1\" class=\"dataframe\">\n",
       "  <thead>\n",
       "    <tr style=\"text-align: right;\">\n",
       "      <th></th>\n",
       "      <th>InvoiceNo</th>\n",
       "      <th>StockCode</th>\n",
       "      <th>Description</th>\n",
       "      <th>Quantity</th>\n",
       "      <th>InvoiceDate</th>\n",
       "      <th>UnitPrice</th>\n",
       "      <th>CustomerID</th>\n",
       "      <th>Country</th>\n",
       "    </tr>\n",
       "  </thead>\n",
       "  <tbody>\n",
       "    <tr>\n",
       "      <th>541717</th>\n",
       "      <td>C581569</td>\n",
       "      <td>20979</td>\n",
       "      <td>36 PENCILS TUBE RED RETROSPOT</td>\n",
       "      <td>-5</td>\n",
       "      <td>2011-12-09 11:58:00</td>\n",
       "      <td>1.25</td>\n",
       "      <td>17315.0</td>\n",
       "      <td>United Kingdom</td>\n",
       "    </tr>\n",
       "    <tr>\n",
       "      <th>541716</th>\n",
       "      <td>C581569</td>\n",
       "      <td>84978</td>\n",
       "      <td>HANGING HEART JAR T-LIGHT HOLDER</td>\n",
       "      <td>-1</td>\n",
       "      <td>2011-12-09 11:58:00</td>\n",
       "      <td>1.25</td>\n",
       "      <td>17315.0</td>\n",
       "      <td>United Kingdom</td>\n",
       "    </tr>\n",
       "    <tr>\n",
       "      <th>541715</th>\n",
       "      <td>C581568</td>\n",
       "      <td>21258</td>\n",
       "      <td>VICTORIAN SEWING BOX LARGE</td>\n",
       "      <td>-5</td>\n",
       "      <td>2011-12-09 11:57:00</td>\n",
       "      <td>10.95</td>\n",
       "      <td>15311.0</td>\n",
       "      <td>United Kingdom</td>\n",
       "    </tr>\n",
       "    <tr>\n",
       "      <th>541541</th>\n",
       "      <td>C581499</td>\n",
       "      <td>M</td>\n",
       "      <td>Manual</td>\n",
       "      <td>-1</td>\n",
       "      <td>2011-12-09 10:28:00</td>\n",
       "      <td>224.69</td>\n",
       "      <td>15498.0</td>\n",
       "      <td>United Kingdom</td>\n",
       "    </tr>\n",
       "    <tr>\n",
       "      <th>540448</th>\n",
       "      <td>C581490</td>\n",
       "      <td>22178</td>\n",
       "      <td>VICTORIAN GLASS HANGING T-LIGHT</td>\n",
       "      <td>-12</td>\n",
       "      <td>2011-12-09 09:57:00</td>\n",
       "      <td>1.95</td>\n",
       "      <td>14397.0</td>\n",
       "      <td>United Kingdom</td>\n",
       "    </tr>\n",
       "    <tr>\n",
       "      <th>...</th>\n",
       "      <td>...</td>\n",
       "      <td>...</td>\n",
       "      <td>...</td>\n",
       "      <td>...</td>\n",
       "      <td>...</td>\n",
       "      <td>...</td>\n",
       "      <td>...</td>\n",
       "      <td>...</td>\n",
       "    </tr>\n",
       "    <tr>\n",
       "      <th>3</th>\n",
       "      <td>536365</td>\n",
       "      <td>84029G</td>\n",
       "      <td>KNITTED UNION FLAG HOT WATER BOTTLE</td>\n",
       "      <td>6</td>\n",
       "      <td>2010-12-01 08:26:00</td>\n",
       "      <td>3.39</td>\n",
       "      <td>17850.0</td>\n",
       "      <td>United Kingdom</td>\n",
       "    </tr>\n",
       "    <tr>\n",
       "      <th>1</th>\n",
       "      <td>536365</td>\n",
       "      <td>71053</td>\n",
       "      <td>WHITE METAL LANTERN</td>\n",
       "      <td>6</td>\n",
       "      <td>2010-12-01 08:26:00</td>\n",
       "      <td>3.39</td>\n",
       "      <td>17850.0</td>\n",
       "      <td>United Kingdom</td>\n",
       "    </tr>\n",
       "    <tr>\n",
       "      <th>5</th>\n",
       "      <td>536365</td>\n",
       "      <td>22752</td>\n",
       "      <td>SET 7 BABUSHKA NESTING BOXES</td>\n",
       "      <td>2</td>\n",
       "      <td>2010-12-01 08:26:00</td>\n",
       "      <td>7.65</td>\n",
       "      <td>17850.0</td>\n",
       "      <td>United Kingdom</td>\n",
       "    </tr>\n",
       "    <tr>\n",
       "      <th>6</th>\n",
       "      <td>536365</td>\n",
       "      <td>21730</td>\n",
       "      <td>GLASS STAR FROSTED T-LIGHT HOLDER</td>\n",
       "      <td>6</td>\n",
       "      <td>2010-12-01 08:26:00</td>\n",
       "      <td>4.25</td>\n",
       "      <td>17850.0</td>\n",
       "      <td>United Kingdom</td>\n",
       "    </tr>\n",
       "    <tr>\n",
       "      <th>0</th>\n",
       "      <td>536365</td>\n",
       "      <td>85123A</td>\n",
       "      <td>WHITE HANGING HEART T-LIGHT HOLDER</td>\n",
       "      <td>6</td>\n",
       "      <td>2010-12-01 08:26:00</td>\n",
       "      <td>2.55</td>\n",
       "      <td>17850.0</td>\n",
       "      <td>United Kingdom</td>\n",
       "    </tr>\n",
       "  </tbody>\n",
       "</table>\n",
       "<p>541909 rows × 8 columns</p>\n",
       "</div>"
      ],
      "text/plain": [
       "       InvoiceNo StockCode                          Description  Quantity  \\\n",
       "541717   C581569     20979        36 PENCILS TUBE RED RETROSPOT        -5   \n",
       "541716   C581569     84978     HANGING HEART JAR T-LIGHT HOLDER        -1   \n",
       "541715   C581568     21258           VICTORIAN SEWING BOX LARGE        -5   \n",
       "541541   C581499         M                               Manual        -1   \n",
       "540448   C581490     22178      VICTORIAN GLASS HANGING T-LIGHT       -12   \n",
       "...          ...       ...                                  ...       ...   \n",
       "3         536365    84029G  KNITTED UNION FLAG HOT WATER BOTTLE         6   \n",
       "1         536365     71053                  WHITE METAL LANTERN         6   \n",
       "5         536365     22752         SET 7 BABUSHKA NESTING BOXES         2   \n",
       "6         536365     21730    GLASS STAR FROSTED T-LIGHT HOLDER         6   \n",
       "0         536365    85123A   WHITE HANGING HEART T-LIGHT HOLDER         6   \n",
       "\n",
       "               InvoiceDate  UnitPrice  CustomerID         Country  \n",
       "541717 2011-12-09 11:58:00       1.25     17315.0  United Kingdom  \n",
       "541716 2011-12-09 11:58:00       1.25     17315.0  United Kingdom  \n",
       "541715 2011-12-09 11:57:00      10.95     15311.0  United Kingdom  \n",
       "541541 2011-12-09 10:28:00     224.69     15498.0  United Kingdom  \n",
       "540448 2011-12-09 09:57:00       1.95     14397.0  United Kingdom  \n",
       "...                    ...        ...         ...             ...  \n",
       "3      2010-12-01 08:26:00       3.39     17850.0  United Kingdom  \n",
       "1      2010-12-01 08:26:00       3.39     17850.0  United Kingdom  \n",
       "5      2010-12-01 08:26:00       7.65     17850.0  United Kingdom  \n",
       "6      2010-12-01 08:26:00       4.25     17850.0  United Kingdom  \n",
       "0      2010-12-01 08:26:00       2.55     17850.0  United Kingdom  \n",
       "\n",
       "[541909 rows x 8 columns]"
      ]
     },
     "execution_count": 9,
     "metadata": {},
     "output_type": "execute_result"
    }
   ],
   "source": [
    "data.sort_values('InvoiceNo',ascending=False)"
   ]
  },
  {
   "cell_type": "markdown",
   "id": "e1f05ce0",
   "metadata": {},
   "source": [
    "##### Invoice number starts with C is canceled transactions.We will delete this data,because we want successful transactions only"
   ]
  },
  {
   "cell_type": "code",
   "execution_count": 10,
   "id": "0ddb6c52",
   "metadata": {},
   "outputs": [],
   "source": [
    "data = data[~data['InvoiceNo'].str.contains('C')]"
   ]
  },
  {
   "cell_type": "code",
   "execution_count": 11,
   "id": "67a1eca7",
   "metadata": {},
   "outputs": [
    {
     "data": {
      "text/plain": [
       "(532621, 8)"
      ]
     },
     "execution_count": 11,
     "metadata": {},
     "output_type": "execute_result"
    }
   ],
   "source": [
    "data.shape"
   ]
  },
  {
   "cell_type": "code",
   "execution_count": 12,
   "id": "bd1a4339",
   "metadata": {},
   "outputs": [
    {
     "data": {
      "text/html": [
       "<div>\n",
       "<style scoped>\n",
       "    .dataframe tbody tr th:only-of-type {\n",
       "        vertical-align: middle;\n",
       "    }\n",
       "\n",
       "    .dataframe tbody tr th {\n",
       "        vertical-align: top;\n",
       "    }\n",
       "\n",
       "    .dataframe thead th {\n",
       "        text-align: right;\n",
       "    }\n",
       "</style>\n",
       "<table border=\"1\" class=\"dataframe\">\n",
       "  <thead>\n",
       "    <tr style=\"text-align: right;\">\n",
       "      <th></th>\n",
       "      <th>variable</th>\n",
       "      <th>number_of_missing</th>\n",
       "      <th>percentage_of_missing</th>\n",
       "    </tr>\n",
       "  </thead>\n",
       "  <tbody>\n",
       "    <tr>\n",
       "      <th>0</th>\n",
       "      <td>CustomerID</td>\n",
       "      <td>134697</td>\n",
       "      <td>25.289465</td>\n",
       "    </tr>\n",
       "    <tr>\n",
       "      <th>1</th>\n",
       "      <td>Description</td>\n",
       "      <td>1454</td>\n",
       "      <td>0.272990</td>\n",
       "    </tr>\n",
       "    <tr>\n",
       "      <th>2</th>\n",
       "      <td>InvoiceNo</td>\n",
       "      <td>0</td>\n",
       "      <td>0.000000</td>\n",
       "    </tr>\n",
       "    <tr>\n",
       "      <th>3</th>\n",
       "      <td>StockCode</td>\n",
       "      <td>0</td>\n",
       "      <td>0.000000</td>\n",
       "    </tr>\n",
       "    <tr>\n",
       "      <th>4</th>\n",
       "      <td>Quantity</td>\n",
       "      <td>0</td>\n",
       "      <td>0.000000</td>\n",
       "    </tr>\n",
       "    <tr>\n",
       "      <th>5</th>\n",
       "      <td>InvoiceDate</td>\n",
       "      <td>0</td>\n",
       "      <td>0.000000</td>\n",
       "    </tr>\n",
       "    <tr>\n",
       "      <th>6</th>\n",
       "      <td>UnitPrice</td>\n",
       "      <td>0</td>\n",
       "      <td>0.000000</td>\n",
       "    </tr>\n",
       "    <tr>\n",
       "      <th>7</th>\n",
       "      <td>Country</td>\n",
       "      <td>0</td>\n",
       "      <td>0.000000</td>\n",
       "    </tr>\n",
       "  </tbody>\n",
       "</table>\n",
       "</div>"
      ],
      "text/plain": [
       "      variable  number_of_missing  percentage_of_missing\n",
       "0   CustomerID             134697              25.289465\n",
       "1  Description               1454               0.272990\n",
       "2    InvoiceNo                  0               0.000000\n",
       "3    StockCode                  0               0.000000\n",
       "4     Quantity                  0               0.000000\n",
       "5  InvoiceDate                  0               0.000000\n",
       "6    UnitPrice                  0               0.000000\n",
       "7      Country                  0               0.000000"
      ]
     },
     "execution_count": 12,
     "metadata": {},
     "output_type": "execute_result"
    }
   ],
   "source": [
    "def missingvalue(data):\n",
    "    missing_value = data.isnull().sum(axis = 0).reset_index()\n",
    "    missing_value.columns = ['variable', 'number_of_missing']\n",
    "    missing_value['percentage_of_missing'] = (missing_value['number_of_missing'])/data.shape[0]*100\n",
    "    mv = missing_value.sort_values('percentage_of_missing', ascending = False).reset_index(drop=True)\n",
    "    return mv\n",
    "missingvalue(data)"
   ]
  },
  {
   "cell_type": "markdown",
   "id": "89516175",
   "metadata": {},
   "source": [
    "##### We have missing values  in the customerID and description we drop the missing values that will not cause any problem because of large data"
   ]
  },
  {
   "cell_type": "code",
   "execution_count": 13,
   "id": "302d96fc",
   "metadata": {},
   "outputs": [],
   "source": [
    "data=data.dropna(subset=['CustomerID','Description'])"
   ]
  },
  {
   "cell_type": "code",
   "execution_count": 14,
   "id": "423d3774",
   "metadata": {},
   "outputs": [
    {
     "data": {
      "text/html": [
       "<div>\n",
       "<style scoped>\n",
       "    .dataframe tbody tr th:only-of-type {\n",
       "        vertical-align: middle;\n",
       "    }\n",
       "\n",
       "    .dataframe tbody tr th {\n",
       "        vertical-align: top;\n",
       "    }\n",
       "\n",
       "    .dataframe thead th {\n",
       "        text-align: right;\n",
       "    }\n",
       "</style>\n",
       "<table border=\"1\" class=\"dataframe\">\n",
       "  <thead>\n",
       "    <tr style=\"text-align: right;\">\n",
       "      <th></th>\n",
       "      <th>variable</th>\n",
       "      <th>number_of_missing</th>\n",
       "      <th>percentage_of_missing</th>\n",
       "    </tr>\n",
       "  </thead>\n",
       "  <tbody>\n",
       "    <tr>\n",
       "      <th>0</th>\n",
       "      <td>InvoiceNo</td>\n",
       "      <td>0</td>\n",
       "      <td>0.0</td>\n",
       "    </tr>\n",
       "    <tr>\n",
       "      <th>1</th>\n",
       "      <td>StockCode</td>\n",
       "      <td>0</td>\n",
       "      <td>0.0</td>\n",
       "    </tr>\n",
       "    <tr>\n",
       "      <th>2</th>\n",
       "      <td>Description</td>\n",
       "      <td>0</td>\n",
       "      <td>0.0</td>\n",
       "    </tr>\n",
       "    <tr>\n",
       "      <th>3</th>\n",
       "      <td>Quantity</td>\n",
       "      <td>0</td>\n",
       "      <td>0.0</td>\n",
       "    </tr>\n",
       "    <tr>\n",
       "      <th>4</th>\n",
       "      <td>InvoiceDate</td>\n",
       "      <td>0</td>\n",
       "      <td>0.0</td>\n",
       "    </tr>\n",
       "    <tr>\n",
       "      <th>5</th>\n",
       "      <td>UnitPrice</td>\n",
       "      <td>0</td>\n",
       "      <td>0.0</td>\n",
       "    </tr>\n",
       "    <tr>\n",
       "      <th>6</th>\n",
       "      <td>CustomerID</td>\n",
       "      <td>0</td>\n",
       "      <td>0.0</td>\n",
       "    </tr>\n",
       "    <tr>\n",
       "      <th>7</th>\n",
       "      <td>Country</td>\n",
       "      <td>0</td>\n",
       "      <td>0.0</td>\n",
       "    </tr>\n",
       "  </tbody>\n",
       "</table>\n",
       "</div>"
      ],
      "text/plain": [
       "      variable  number_of_missing  percentage_of_missing\n",
       "0    InvoiceNo                  0                    0.0\n",
       "1    StockCode                  0                    0.0\n",
       "2  Description                  0                    0.0\n",
       "3     Quantity                  0                    0.0\n",
       "4  InvoiceDate                  0                    0.0\n",
       "5    UnitPrice                  0                    0.0\n",
       "6   CustomerID                  0                    0.0\n",
       "7      Country                  0                    0.0"
      ]
     },
     "execution_count": 14,
     "metadata": {},
     "output_type": "execute_result"
    }
   ],
   "source": [
    "missingvalue(data)"
   ]
  },
  {
   "cell_type": "code",
   "execution_count": 15,
   "id": "03d2874f",
   "metadata": {},
   "outputs": [],
   "source": [
    "#Removing the spaces trail and head spaces in the description\n",
    "data['Description'] = data['Description'].str.strip()"
   ]
  },
  {
   "cell_type": "code",
   "execution_count": 16,
   "id": "0c5c9181",
   "metadata": {},
   "outputs": [
    {
     "data": {
      "text/plain": [
       "(397924, 8)"
      ]
     },
     "execution_count": 16,
     "metadata": {},
     "output_type": "execute_result"
    }
   ],
   "source": [
    "data.shape"
   ]
  },
  {
   "cell_type": "code",
   "execution_count": 17,
   "id": "06520251",
   "metadata": {},
   "outputs": [
    {
     "name": "stdout",
     "output_type": "stream",
     "text": [
      "<class 'pandas.core.frame.DataFrame'>\n",
      "Int64Index: 397924 entries, 0 to 541908\n",
      "Data columns (total 8 columns):\n",
      " #   Column       Non-Null Count   Dtype         \n",
      "---  ------       --------------   -----         \n",
      " 0   InvoiceNo    397924 non-null  object        \n",
      " 1   StockCode    397924 non-null  object        \n",
      " 2   Description  397924 non-null  object        \n",
      " 3   Quantity     397924 non-null  int64         \n",
      " 4   InvoiceDate  397924 non-null  datetime64[ns]\n",
      " 5   UnitPrice    397924 non-null  float64       \n",
      " 6   CustomerID   397924 non-null  float64       \n",
      " 7   Country      397924 non-null  object        \n",
      "dtypes: datetime64[ns](1), float64(2), int64(1), object(4)\n",
      "memory usage: 27.3+ MB\n"
     ]
    }
   ],
   "source": [
    "data.info()\n",
    "data['CustomerID'] =data['CustomerID'].astype('int')"
   ]
  },
  {
   "cell_type": "code",
   "execution_count": 18,
   "id": "90c0d44c",
   "metadata": {},
   "outputs": [
    {
     "data": {
      "text/html": [
       "<div>\n",
       "<style scoped>\n",
       "    .dataframe tbody tr th:only-of-type {\n",
       "        vertical-align: middle;\n",
       "    }\n",
       "\n",
       "    .dataframe tbody tr th {\n",
       "        vertical-align: top;\n",
       "    }\n",
       "\n",
       "    .dataframe thead th {\n",
       "        text-align: right;\n",
       "    }\n",
       "</style>\n",
       "<table border=\"1\" class=\"dataframe\">\n",
       "  <thead>\n",
       "    <tr style=\"text-align: right;\">\n",
       "      <th></th>\n",
       "      <th>Quantity</th>\n",
       "      <th>UnitPrice</th>\n",
       "      <th>CustomerID</th>\n",
       "    </tr>\n",
       "  </thead>\n",
       "  <tbody>\n",
       "    <tr>\n",
       "      <th>count</th>\n",
       "      <td>397924.000000</td>\n",
       "      <td>397924.000000</td>\n",
       "      <td>397924.000000</td>\n",
       "    </tr>\n",
       "    <tr>\n",
       "      <th>mean</th>\n",
       "      <td>13.021823</td>\n",
       "      <td>3.116174</td>\n",
       "      <td>15294.315171</td>\n",
       "    </tr>\n",
       "    <tr>\n",
       "      <th>std</th>\n",
       "      <td>180.420210</td>\n",
       "      <td>22.096788</td>\n",
       "      <td>1713.169877</td>\n",
       "    </tr>\n",
       "    <tr>\n",
       "      <th>min</th>\n",
       "      <td>1.000000</td>\n",
       "      <td>0.000000</td>\n",
       "      <td>12346.000000</td>\n",
       "    </tr>\n",
       "    <tr>\n",
       "      <th>25%</th>\n",
       "      <td>2.000000</td>\n",
       "      <td>1.250000</td>\n",
       "      <td>13969.000000</td>\n",
       "    </tr>\n",
       "    <tr>\n",
       "      <th>50%</th>\n",
       "      <td>6.000000</td>\n",
       "      <td>1.950000</td>\n",
       "      <td>15159.000000</td>\n",
       "    </tr>\n",
       "    <tr>\n",
       "      <th>75%</th>\n",
       "      <td>12.000000</td>\n",
       "      <td>3.750000</td>\n",
       "      <td>16795.000000</td>\n",
       "    </tr>\n",
       "    <tr>\n",
       "      <th>max</th>\n",
       "      <td>80995.000000</td>\n",
       "      <td>8142.750000</td>\n",
       "      <td>18287.000000</td>\n",
       "    </tr>\n",
       "  </tbody>\n",
       "</table>\n",
       "</div>"
      ],
      "text/plain": [
       "            Quantity      UnitPrice     CustomerID\n",
       "count  397924.000000  397924.000000  397924.000000\n",
       "mean       13.021823       3.116174   15294.315171\n",
       "std       180.420210      22.096788    1713.169877\n",
       "min         1.000000       0.000000   12346.000000\n",
       "25%         2.000000       1.250000   13969.000000\n",
       "50%         6.000000       1.950000   15159.000000\n",
       "75%        12.000000       3.750000   16795.000000\n",
       "max     80995.000000    8142.750000   18287.000000"
      ]
     },
     "execution_count": 18,
     "metadata": {},
     "output_type": "execute_result"
    }
   ],
   "source": [
    "data.describe()"
   ]
  },
  {
   "cell_type": "markdown",
   "id": "93ab3447",
   "metadata": {},
   "source": [
    "## EDA(Exploratory Data Analysis)"
   ]
  },
  {
   "cell_type": "markdown",
   "id": "5c67a7b3",
   "metadata": {},
   "source": [
    "##### Analyze the sales performance of this company,and providing insights regarding the same"
   ]
  },
  {
   "cell_type": "code",
   "execution_count": 19,
   "id": "2466e93c",
   "metadata": {},
   "outputs": [
    {
     "data": {
      "text/plain": [
       "Country\n",
       "United Kingdom          4269472\n",
       "Netherlands              200937\n",
       "EIRE                     140525\n",
       "Germany                  119263\n",
       "France                   111472\n",
       "Australia                 84209\n",
       "Sweden                    36083\n",
       "Switzerland               30083\n",
       "Spain                     27951\n",
       "Japan                     26016\n",
       "Belgium                   23237\n",
       "Norway                    19338\n",
       "Portugal                  16122\n",
       "Finland                   10704\n",
       "Channel Islands            9491\n",
       "Denmark                    8235\n",
       "Italy                      8112\n",
       "Cyprus                     6361\n",
       "Singapore                  5241\n",
       "Austria                    4881\n",
       "Israel                     4046\n",
       "Poland                     3684\n",
       "Canada                     2763\n",
       "Iceland                    2458\n",
       "USA                        2458\n",
       "Unspecified                1789\n",
       "Greece                     1557\n",
       "United Arab Emirates        982\n",
       "Malta                       970\n",
       "Czech Republic              671\n",
       "Lithuania                   652\n",
       "European Community          499\n",
       "Lebanon                     386\n",
       "Brazil                      356\n",
       "RSA                         352\n",
       "Bahrain                     260\n",
       "Saudi Arabia                 80\n",
       "Name: Quantity, dtype: int64"
      ]
     },
     "execution_count": 19,
     "metadata": {},
     "output_type": "execute_result"
    }
   ],
   "source": [
    "#Grouping the countries by Total amount of sales\n",
    "country_price = data.groupby('Country')['Quantity'].sum().sort_values(ascending = False)\n",
    "country_price"
   ]
  },
  {
   "cell_type": "code",
   "execution_count": 20,
   "id": "b2bf3bad",
   "metadata": {},
   "outputs": [
    {
     "data": {
      "text/plain": [
       "<AxesSubplot:xlabel='Country'>"
      ]
     },
     "execution_count": 20,
     "metadata": {},
     "output_type": "execute_result"
    },
    {
     "data": {
      "image/png": "[encoded data removed]",
      "text/plain": [
       "<Figure size 432x288 with 1 Axes>"
      ]
     },
     "metadata": {
      "needs_background": "light"
     },
     "output_type": "display_data"
    }
   ],
   "source": [
    "#Top 5 countries with high number of purchase\n",
    "country_price[:5].plot(kind='bar')"
   ]
  },
  {
   "cell_type": "code",
   "execution_count": 21,
   "id": "f1b4b64a",
   "metadata": {},
   "outputs": [
    {
     "data": {
      "text/plain": [
       "<AxesSubplot:xlabel='Country'>"
      ]
     },
     "execution_count": 21,
     "metadata": {},
     "output_type": "execute_result"
    },
    {
     "data": {
      "image/png": "[encoded data removed]",
      "text/plain": [
       "<Figure size 432x288 with 1 Axes>"
      ]
     },
     "metadata": {
      "needs_background": "light"
     },
     "output_type": "display_data"
    }
   ],
   "source": [
    "#5 countries with least number of purchase\n",
    "country_price[33:].plot(kind='bar')"
   ]
  },
  {
   "cell_type": "markdown",
   "id": "834aed39",
   "metadata": {},
   "source": [
    "#### What products do customers buy the most?"
   ]
  },
  {
   "cell_type": "code",
   "execution_count": 22,
   "id": "25c79284",
   "metadata": {},
   "outputs": [
    {
     "data": {
      "image/png": "[encoded data removed]",
      "text/plain": [
       "<Figure size 1008x504 with 1 Axes>"
      ]
     },
     "metadata": {
      "needs_background": "light"
     },
     "output_type": "display_data"
    }
   ],
   "source": [
    "plt.figure(figsize = (14,7))\n",
    "ax = sns.countplot(y = data['Description'], \n",
    "                   order = data[\"Description\"].value_counts().iloc[:10].index, \n",
    "                   palette = \"GnBu_d\")\n",
    "ax.set_title(\"Top 5 Frequently Purchased Products\", size = 20, pad=15)\n",
    "ax.set_xlabel(\"Count\", size = 15)\n",
    "ax.set_ylabel(\"Product\", size = 15)\n",
    "ax.xaxis.set_tick_params(labelsize=11)\n",
    "ax.yaxis.set_tick_params(labelsize=11)\n",
    "plt.show()"
   ]
  },
  {
   "cell_type": "markdown",
   "id": "63a78414",
   "metadata": {},
   "source": [
    "#### How many orders(per month)"
   ]
  },
  {
   "cell_type": "code",
   "execution_count": 23,
   "id": "0cb54fdf",
   "metadata": {
    "scrolled": true
   },
   "outputs": [
    {
     "data": {
      "image/png": "[encoded data removed]",
      "text/plain": [
       "<Figure size 864x576 with 1 Axes>"
      ]
     },
     "metadata": {
      "needs_background": "light"
     },
     "output_type": "display_data"
    }
   ],
   "source": [
    "order_month = data.groupby(data['InvoiceDate'].dt.month)['InvoiceNo'].nunique()\n",
    "\n",
    "plt.figure(figsize = (12,8))\n",
    "ax = sns.barplot(x = 'InvoiceDate', y = 'InvoiceNo', data = order_month.reset_index(), palette = \"Set2\")\n",
    "ax.set_title('Number of Transactions Occured Each Month', size = 20)\n",
    "ax.set_xlabel('Month', size = 14)\n",
    "ax.set_ylabel('Number of Transaction', size = 14)\n",
    "ax.xaxis.set_tick_params(labelsize=11)\n",
    "ax.yaxis.set_tick_params(labelsize=11)\n",
    "ax.set_xticklabels(['January','February','March','April','May','June','July','August','September','October','November','December'], rotation = 30)\n",
    "plt.show()"
   ]
  },
  {
   "cell_type": "markdown",
   "id": "f92cc7f6",
   "metadata": {},
   "source": [
    "#### How many orders(per week)"
   ]
  },
  {
   "cell_type": "code",
   "execution_count": 24,
   "id": "7f3d9cd9",
   "metadata": {},
   "outputs": [
    {
     "data": {
      "image/png": "[encoded data removed]",
      "text/plain": [
       "<Figure size 864x576 with 1 Axes>"
      ]
     },
     "metadata": {
      "needs_background": "light"
     },
     "output_type": "display_data"
    }
   ],
   "source": [
    "order_day = data.groupby(data['InvoiceDate'].dt.dayofweek)['InvoiceNo'].nunique()\n",
    "\n",
    "plt.figure(figsize = (12,8))\n",
    "ax = sns.barplot(x = 'InvoiceDate', y = 'InvoiceNo', data = order_day.reset_index(), palette = \"Set3\")\n",
    "ax.set_title('Number of Transactions Occured Each Day', size = 20)\n",
    "ax.set_xlabel('Day', size = 14)\n",
    "ax.set_ylabel('Number of Transaction', size = 14)\n",
    "ax.xaxis.set_tick_params(labelsize=11)\n",
    "ax.yaxis.set_tick_params(labelsize=11)\n",
    "ax.set_xticklabels(['Monday','Tuesday','Wednesday','Thursday','Friday','Saturday'])\n",
    "plt.show()"
   ]
  },
  {
   "cell_type": "markdown",
   "id": "badb9be0",
   "metadata": {},
   "source": [
    "#### How many orders(per hour)"
   ]
  },
  {
   "cell_type": "code",
   "execution_count": 25,
   "id": "a1b84f53",
   "metadata": {},
   "outputs": [
    {
     "data": {
      "image/png": "[encoded data removed]",
      "text/plain": [
       "<Figure size 864x576 with 1 Axes>"
      ]
     },
     "metadata": {
      "needs_background": "light"
     },
     "output_type": "display_data"
    }
   ],
   "source": [
    "order_hour = data.groupby(data['InvoiceDate'].dt.hour)['InvoiceNo'].nunique()\n",
    "\n",
    "plt.figure(figsize = (12,8))\n",
    "ax = sns.barplot(x = 'InvoiceDate', y = 'InvoiceNo', data = order_hour.reset_index(), palette = \"colorblind\")\n",
    "ax.set_title('Number of Transactions Occured Each Hour', size = 20)\n",
    "ax.set_xlabel('Hour', size = 14)\n",
    "ax.set_ylabel('Number of Transaction', size = 14)\n",
    "ax.xaxis.set_tick_params(labelsize=11)\n",
    "ax.yaxis.set_tick_params(labelsize=11)\n",
    "plt.show()"
   ]
  },
  {
   "cell_type": "code",
   "execution_count": 26,
   "id": "37b76b11",
   "metadata": {},
   "outputs": [
    {
     "data": {
      "text/html": [
       "<div>\n",
       "<style scoped>\n",
       "    .dataframe tbody tr th:only-of-type {\n",
       "        vertical-align: middle;\n",
       "    }\n",
       "\n",
       "    .dataframe tbody tr th {\n",
       "        vertical-align: top;\n",
       "    }\n",
       "\n",
       "    .dataframe thead th {\n",
       "        text-align: right;\n",
       "    }\n",
       "</style>\n",
       "<table border=\"1\" class=\"dataframe\">\n",
       "  <thead>\n",
       "    <tr style=\"text-align: right;\">\n",
       "      <th></th>\n",
       "      <th>InvoiceNo</th>\n",
       "      <th>StockCode</th>\n",
       "      <th>Description</th>\n",
       "      <th>Quantity</th>\n",
       "      <th>InvoiceDate</th>\n",
       "      <th>UnitPrice</th>\n",
       "      <th>CustomerID</th>\n",
       "      <th>Country</th>\n",
       "      <th>Year</th>\n",
       "    </tr>\n",
       "  </thead>\n",
       "  <tbody>\n",
       "    <tr>\n",
       "      <th>0</th>\n",
       "      <td>536365</td>\n",
       "      <td>85123A</td>\n",
       "      <td>WHITE HANGING HEART T-LIGHT HOLDER</td>\n",
       "      <td>6</td>\n",
       "      <td>2010-12-01 08:26:00</td>\n",
       "      <td>2.55</td>\n",
       "      <td>17850</td>\n",
       "      <td>United Kingdom</td>\n",
       "      <td>2010</td>\n",
       "    </tr>\n",
       "    <tr>\n",
       "      <th>1</th>\n",
       "      <td>536365</td>\n",
       "      <td>71053</td>\n",
       "      <td>WHITE METAL LANTERN</td>\n",
       "      <td>6</td>\n",
       "      <td>2010-12-01 08:26:00</td>\n",
       "      <td>3.39</td>\n",
       "      <td>17850</td>\n",
       "      <td>United Kingdom</td>\n",
       "      <td>2010</td>\n",
       "    </tr>\n",
       "    <tr>\n",
       "      <th>2</th>\n",
       "      <td>536365</td>\n",
       "      <td>84406B</td>\n",
       "      <td>CREAM CUPID HEARTS COAT HANGER</td>\n",
       "      <td>8</td>\n",
       "      <td>2010-12-01 08:26:00</td>\n",
       "      <td>2.75</td>\n",
       "      <td>17850</td>\n",
       "      <td>United Kingdom</td>\n",
       "      <td>2010</td>\n",
       "    </tr>\n",
       "    <tr>\n",
       "      <th>3</th>\n",
       "      <td>536365</td>\n",
       "      <td>84029G</td>\n",
       "      <td>KNITTED UNION FLAG HOT WATER BOTTLE</td>\n",
       "      <td>6</td>\n",
       "      <td>2010-12-01 08:26:00</td>\n",
       "      <td>3.39</td>\n",
       "      <td>17850</td>\n",
       "      <td>United Kingdom</td>\n",
       "      <td>2010</td>\n",
       "    </tr>\n",
       "    <tr>\n",
       "      <th>4</th>\n",
       "      <td>536365</td>\n",
       "      <td>84029E</td>\n",
       "      <td>RED WOOLLY HOTTIE WHITE HEART.</td>\n",
       "      <td>6</td>\n",
       "      <td>2010-12-01 08:26:00</td>\n",
       "      <td>3.39</td>\n",
       "      <td>17850</td>\n",
       "      <td>United Kingdom</td>\n",
       "      <td>2010</td>\n",
       "    </tr>\n",
       "  </tbody>\n",
       "</table>\n",
       "</div>"
      ],
      "text/plain": [
       "  InvoiceNo StockCode                          Description  Quantity  \\\n",
       "0    536365    85123A   WHITE HANGING HEART T-LIGHT HOLDER         6   \n",
       "1    536365     71053                  WHITE METAL LANTERN         6   \n",
       "2    536365    84406B       CREAM CUPID HEARTS COAT HANGER         8   \n",
       "3    536365    84029G  KNITTED UNION FLAG HOT WATER BOTTLE         6   \n",
       "4    536365    84029E       RED WOOLLY HOTTIE WHITE HEART.         6   \n",
       "\n",
       "          InvoiceDate  UnitPrice  CustomerID         Country  Year  \n",
       "0 2010-12-01 08:26:00       2.55       17850  United Kingdom  2010  \n",
       "1 2010-12-01 08:26:00       3.39       17850  United Kingdom  2010  \n",
       "2 2010-12-01 08:26:00       2.75       17850  United Kingdom  2010  \n",
       "3 2010-12-01 08:26:00       3.39       17850  United Kingdom  2010  \n",
       "4 2010-12-01 08:26:00       3.39       17850  United Kingdom  2010  "
      ]
     },
     "execution_count": 26,
     "metadata": {},
     "output_type": "execute_result"
    }
   ],
   "source": [
    "# Adding year feature to the dataset \n",
    "\n",
    "timest = data['InvoiceDate'].dt.year\n",
    "\n",
    "data['Year'] = timest\n",
    "\n",
    "data.head()"
   ]
  },
  {
   "cell_type": "code",
   "execution_count": 27,
   "id": "426ea946",
   "metadata": {},
   "outputs": [],
   "source": [
    "TotalAmount = data['Quantity'] * data['UnitPrice']\n",
    "data.insert(loc=5,column='TotalAmount',value=TotalAmount)"
   ]
  },
  {
   "cell_type": "code",
   "execution_count": 28,
   "id": "fbffaaf1",
   "metadata": {},
   "outputs": [
    {
     "name": "stdout",
     "output_type": "stream",
     "text": [
      "The following are 5 customers who spend the most money on Online Retail:\n"
     ]
    },
    {
     "data": {
      "text/html": [
       "<div>\n",
       "<style scoped>\n",
       "    .dataframe tbody tr th:only-of-type {\n",
       "        vertical-align: middle;\n",
       "    }\n",
       "\n",
       "    .dataframe tbody tr th {\n",
       "        vertical-align: top;\n",
       "    }\n",
       "\n",
       "    .dataframe thead th {\n",
       "        text-align: right;\n",
       "    }\n",
       "</style>\n",
       "<table border=\"1\" class=\"dataframe\">\n",
       "  <thead>\n",
       "    <tr style=\"text-align: right;\">\n",
       "      <th></th>\n",
       "      <th>TotalAmount</th>\n",
       "    </tr>\n",
       "    <tr>\n",
       "      <th>CustomerID</th>\n",
       "      <th></th>\n",
       "    </tr>\n",
       "  </thead>\n",
       "  <tbody>\n",
       "    <tr>\n",
       "      <th>14646</th>\n",
       "      <td>280206.02</td>\n",
       "    </tr>\n",
       "    <tr>\n",
       "      <th>18102</th>\n",
       "      <td>259657.30</td>\n",
       "    </tr>\n",
       "    <tr>\n",
       "      <th>17450</th>\n",
       "      <td>194550.79</td>\n",
       "    </tr>\n",
       "    <tr>\n",
       "      <th>16446</th>\n",
       "      <td>168472.50</td>\n",
       "    </tr>\n",
       "    <tr>\n",
       "      <th>14911</th>\n",
       "      <td>143825.06</td>\n",
       "    </tr>\n",
       "  </tbody>\n",
       "</table>\n",
       "</div>"
      ],
      "text/plain": [
       "            TotalAmount\n",
       "CustomerID             \n",
       "14646         280206.02\n",
       "18102         259657.30\n",
       "17450         194550.79\n",
       "16446         168472.50\n",
       "14911         143825.06"
      ]
     },
     "execution_count": 28,
     "metadata": {},
     "output_type": "execute_result"
    }
   ],
   "source": [
    "price_cust = pd.pivot_table(data, index='CustomerID', values='TotalAmount', aggfunc=np.sum)\n",
    "print('The following are 5 customers who spend the most money on Online Retail:')\n",
    "price_cust.sort_values('TotalAmount', ascending=False)[:5]"
   ]
  },
  {
   "cell_type": "code",
   "execution_count": 29,
   "id": "720cf86f",
   "metadata": {},
   "outputs": [
    {
     "name": "stdout",
     "output_type": "stream",
     "text": [
      "The following are the 5 customers who most frequently shop at Online Retail:\n"
     ]
    },
    {
     "data": {
      "text/html": [
       "<div>\n",
       "<style scoped>\n",
       "    .dataframe tbody tr th:only-of-type {\n",
       "        vertical-align: middle;\n",
       "    }\n",
       "\n",
       "    .dataframe tbody tr th {\n",
       "        vertical-align: top;\n",
       "    }\n",
       "\n",
       "    .dataframe thead th {\n",
       "        text-align: right;\n",
       "    }\n",
       "</style>\n",
       "<table border=\"1\" class=\"dataframe\">\n",
       "  <thead>\n",
       "    <tr style=\"text-align: right;\">\n",
       "      <th></th>\n",
       "      <th>InvoiceNo</th>\n",
       "    </tr>\n",
       "    <tr>\n",
       "      <th>CustomerID</th>\n",
       "      <th></th>\n",
       "    </tr>\n",
       "  </thead>\n",
       "  <tbody>\n",
       "    <tr>\n",
       "      <th>12748</th>\n",
       "      <td>210</td>\n",
       "    </tr>\n",
       "    <tr>\n",
       "      <th>14911</th>\n",
       "      <td>201</td>\n",
       "    </tr>\n",
       "    <tr>\n",
       "      <th>17841</th>\n",
       "      <td>124</td>\n",
       "    </tr>\n",
       "    <tr>\n",
       "      <th>13089</th>\n",
       "      <td>97</td>\n",
       "    </tr>\n",
       "    <tr>\n",
       "      <th>14606</th>\n",
       "      <td>93</td>\n",
       "    </tr>\n",
       "  </tbody>\n",
       "</table>\n",
       "</div>"
      ],
      "text/plain": [
       "            InvoiceNo\n",
       "CustomerID           \n",
       "12748             210\n",
       "14911             201\n",
       "17841             124\n",
       "13089              97\n",
       "14606              93"
      ]
     },
     "execution_count": 29,
     "metadata": {},
     "output_type": "execute_result"
    }
   ],
   "source": [
    "order_cust = pd.pivot_table(data, index='CustomerID', values='InvoiceNo', aggfunc=pd.Series.nunique)\n",
    "print('The following are the 5 customers who most frequently shop at Online Retail:')\n",
    "order_cust.sort_values('InvoiceNo', ascending=False)[:5]"
   ]
  },
  {
   "cell_type": "code",
   "execution_count": 30,
   "id": "6e1b919c",
   "metadata": {},
   "outputs": [
    {
     "data": {
      "text/plain": [
       "<AxesSubplot:xlabel='Year'>"
      ]
     },
     "execution_count": 30,
     "metadata": {},
     "output_type": "execute_result"
    },
    {
     "data": {
      "image/png": "[encoded data removed]",
      "text/plain": [
       "<Figure size 432x288 with 1 Axes>"
      ]
     },
     "metadata": {
      "needs_background": "light"
     },
     "output_type": "display_data"
    }
   ],
   "source": [
    "data.groupby('Year')['TotalAmount'].sum().plot(kind = 'bar')"
   ]
  },
  {
   "cell_type": "code",
   "execution_count": 31,
   "id": "bbf09c76",
   "metadata": {},
   "outputs": [
    {
     "data": {
      "text/plain": [
       "<AxesSubplot:title={'center':'Sales month wise'}, xlabel='Mon,Year'>"
      ]
     },
     "execution_count": 31,
     "metadata": {},
     "output_type": "execute_result"
    },
    {
     "data": {
      "image/png": "[encoded data removed]",
      "text/plain": [
       "<Figure size 432x288 with 1 Axes>"
      ]
     },
     "metadata": {
      "needs_background": "light"
     },
     "output_type": "display_data"
    }
   ],
   "source": [
    "#Sales for different month on the year 2011\n",
    "data['Mon'] = data['InvoiceDate'].dt.month\n",
    "data['month'] = data['InvoiceDate'].dt.month_name() \n",
    "data.groupby(['Mon','Year'])['TotalAmount'].sum().plot(kind = 'bar', title = 'Sales month wise')"
   ]
  },
  {
   "cell_type": "code",
   "execution_count": 32,
   "id": "8694b317",
   "metadata": {},
   "outputs": [
    {
     "name": "stdout",
     "output_type": "stream",
     "text": [
      "Min: 2010-12-01 08:26:00\n",
      "Max: 2011-12-09 12:50:00\n"
     ]
    }
   ],
   "source": [
    "print('Min: {}\\nMax: {}'.format(min(data['InvoiceDate']), max(data['InvoiceDate'])))"
   ]
  },
  {
   "cell_type": "code",
   "execution_count": 33,
   "id": "a9c75778",
   "metadata": {},
   "outputs": [
    {
     "data": {
      "text/plain": [
       "<AxesSubplot:title={'center':'Most Customers for country'}, xlabel='Country'>"
      ]
     },
     "execution_count": 33,
     "metadata": {},
     "output_type": "execute_result"
    },
    {
     "data": {
      "image/png": "[encoded data removed]",
      "text/plain": [
       "<Figure size 432x288 with 1 Axes>"
      ]
     },
     "metadata": {
      "needs_background": "light"
     },
     "output_type": "display_data"
    }
   ],
   "source": [
    "#Countries with more number of customers\n",
    "cus_id = pd.DataFrame(data.groupby('Country')['CustomerID'].count().sort_values(ascending = False))\n",
    "cus_id[:5].plot(kind = 'bar', title = 'Most Customers for country')"
   ]
  },
  {
   "cell_type": "code",
   "execution_count": 34,
   "id": "7d038ab6",
   "metadata": {},
   "outputs": [
    {
     "data": {
      "text/plain": [
       "<AxesSubplot:title={'center':'Least customers for country'}, xlabel='Country'>"
      ]
     },
     "execution_count": 34,
     "metadata": {},
     "output_type": "execute_result"
    },
    {
     "data": {
      "image/png": "[encoded data removed]",
      "text/plain": [
       "<Figure size 432x288 with 1 Axes>"
      ]
     },
     "metadata": {
      "needs_background": "light"
     },
     "output_type": "display_data"
    }
   ],
   "source": [
    "# Countries with less number of customers\n",
    "cus_id[-5:].plot(kind = 'bar', title = 'Least customers for country')"
   ]
  },
  {
   "cell_type": "markdown",
   "id": "f08fe71b",
   "metadata": {},
   "source": [
    "#### Support\n",
    "It measures the percentage of itemset occurrence in all transactions."
   ]
  },
  {
   "cell_type": "markdown",
   "id": "c9349a84",
   "metadata": {},
   "source": [
    "#### Confidence\n",
    "Confidence measures how strong the association rule is. How often item Y appears in the purchase transaction of item X.\n",
    "\n"
   ]
  },
  {
   "cell_type": "markdown",
   "id": "3d5a0a9d",
   "metadata": {},
   "source": [
    "#### Lift\n",
    "Lift of the rule is defined as the ratio of observed support to the support expected in the case the elements of the rule were independent. Lift values > 1 are generally more “interesting” and could be indicative of a useful rule pattern."
   ]
  },
  {
   "cell_type": "code",
   "execution_count": 35,
   "id": "70e75ded",
   "metadata": {},
   "outputs": [],
   "source": [
    "from mlxtend.frequent_patterns import apriori\n",
    "from mlxtend.frequent_patterns import association_rules"
   ]
  },
  {
   "cell_type": "code",
   "execution_count": 36,
   "id": "20ad3f90",
   "metadata": {},
   "outputs": [
    {
     "name": "stdout",
     "output_type": "stream",
     "text": [
      "Top 5 Country in Online Retail:\n"
     ]
    },
    {
     "name": "stderr",
     "output_type": "stream",
     "text": [
      "C:\\Users\\tejas\\anaconda3\\lib\\site-packages\\ipykernel\\ipkernel.py:287: DeprecationWarning: `should_run_async` will not call `transform_cell` automatically in the future. Please pass the result to `transformed_cell` argument and any exception that happen during thetransform in `preprocessing_exc_tuple` in IPython 7.17 and above.\n",
      "  and should_run_async(code)\n"
     ]
    },
    {
     "data": {
      "text/plain": [
       "United Kingdom    354345\n",
       "Germany             9042\n",
       "France              8342\n",
       "EIRE                7238\n",
       "Spain               2485\n",
       "Name: Country, dtype: int64"
      ]
     },
     "execution_count": 36,
     "metadata": {},
     "output_type": "execute_result"
    }
   ],
   "source": [
    "print('Top 5 Country in Online Retail:')\n",
    "data['Country'].value_counts()[:5]"
   ]
  },
  {
   "cell_type": "code",
   "execution_count": 37,
   "id": "434d352f",
   "metadata": {},
   "outputs": [
    {
     "name": "stderr",
     "output_type": "stream",
     "text": [
      "C:\\Users\\tejas\\anaconda3\\lib\\site-packages\\ipykernel\\ipkernel.py:287: DeprecationWarning: `should_run_async` will not call `transform_cell` automatically in the future. Please pass the result to `transformed_cell` argument and any exception that happen during thetransform in `preprocessing_exc_tuple` in IPython 7.17 and above.\n",
      "  and should_run_async(code)\n"
     ]
    },
    {
     "data": {
      "text/html": [
       "<div>\n",
       "<style scoped>\n",
       "    .dataframe tbody tr th:only-of-type {\n",
       "        vertical-align: middle;\n",
       "    }\n",
       "\n",
       "    .dataframe tbody tr th {\n",
       "        vertical-align: top;\n",
       "    }\n",
       "\n",
       "    .dataframe thead th {\n",
       "        text-align: right;\n",
       "    }\n",
       "</style>\n",
       "<table border=\"1\" class=\"dataframe\">\n",
       "  <thead>\n",
       "    <tr style=\"text-align: right;\">\n",
       "      <th></th>\n",
       "      <th>InvoiceNo</th>\n",
       "      <th>StockCode</th>\n",
       "      <th>Description</th>\n",
       "      <th>Quantity</th>\n",
       "      <th>InvoiceDate</th>\n",
       "      <th>TotalAmount</th>\n",
       "      <th>UnitPrice</th>\n",
       "      <th>CustomerID</th>\n",
       "      <th>Country</th>\n",
       "      <th>Year</th>\n",
       "      <th>Mon</th>\n",
       "      <th>month</th>\n",
       "    </tr>\n",
       "  </thead>\n",
       "  <tbody>\n",
       "    <tr>\n",
       "      <th>0</th>\n",
       "      <td>536365</td>\n",
       "      <td>85123A</td>\n",
       "      <td>WHITE HANGING HEART T-LIGHT HOLDER</td>\n",
       "      <td>6</td>\n",
       "      <td>2010-12-01 08:26:00</td>\n",
       "      <td>15.30</td>\n",
       "      <td>2.55</td>\n",
       "      <td>17850</td>\n",
       "      <td>United Kingdom</td>\n",
       "      <td>2010</td>\n",
       "      <td>12</td>\n",
       "      <td>December</td>\n",
       "    </tr>\n",
       "    <tr>\n",
       "      <th>1</th>\n",
       "      <td>536365</td>\n",
       "      <td>71053</td>\n",
       "      <td>WHITE METAL LANTERN</td>\n",
       "      <td>6</td>\n",
       "      <td>2010-12-01 08:26:00</td>\n",
       "      <td>20.34</td>\n",
       "      <td>3.39</td>\n",
       "      <td>17850</td>\n",
       "      <td>United Kingdom</td>\n",
       "      <td>2010</td>\n",
       "      <td>12</td>\n",
       "      <td>December</td>\n",
       "    </tr>\n",
       "    <tr>\n",
       "      <th>2</th>\n",
       "      <td>536365</td>\n",
       "      <td>84406B</td>\n",
       "      <td>CREAM CUPID HEARTS COAT HANGER</td>\n",
       "      <td>8</td>\n",
       "      <td>2010-12-01 08:26:00</td>\n",
       "      <td>22.00</td>\n",
       "      <td>2.75</td>\n",
       "      <td>17850</td>\n",
       "      <td>United Kingdom</td>\n",
       "      <td>2010</td>\n",
       "      <td>12</td>\n",
       "      <td>December</td>\n",
       "    </tr>\n",
       "    <tr>\n",
       "      <th>3</th>\n",
       "      <td>536365</td>\n",
       "      <td>84029G</td>\n",
       "      <td>KNITTED UNION FLAG HOT WATER BOTTLE</td>\n",
       "      <td>6</td>\n",
       "      <td>2010-12-01 08:26:00</td>\n",
       "      <td>20.34</td>\n",
       "      <td>3.39</td>\n",
       "      <td>17850</td>\n",
       "      <td>United Kingdom</td>\n",
       "      <td>2010</td>\n",
       "      <td>12</td>\n",
       "      <td>December</td>\n",
       "    </tr>\n",
       "    <tr>\n",
       "      <th>4</th>\n",
       "      <td>536365</td>\n",
       "      <td>84029E</td>\n",
       "      <td>RED WOOLLY HOTTIE WHITE HEART.</td>\n",
       "      <td>6</td>\n",
       "      <td>2010-12-01 08:26:00</td>\n",
       "      <td>20.34</td>\n",
       "      <td>3.39</td>\n",
       "      <td>17850</td>\n",
       "      <td>United Kingdom</td>\n",
       "      <td>2010</td>\n",
       "      <td>12</td>\n",
       "      <td>December</td>\n",
       "    </tr>\n",
       "  </tbody>\n",
       "</table>\n",
       "</div>"
      ],
      "text/plain": [
       "  InvoiceNo StockCode                          Description  Quantity  \\\n",
       "0    536365    85123A   WHITE HANGING HEART T-LIGHT HOLDER         6   \n",
       "1    536365     71053                  WHITE METAL LANTERN         6   \n",
       "2    536365    84406B       CREAM CUPID HEARTS COAT HANGER         8   \n",
       "3    536365    84029G  KNITTED UNION FLAG HOT WATER BOTTLE         6   \n",
       "4    536365    84029E       RED WOOLLY HOTTIE WHITE HEART.         6   \n",
       "\n",
       "          InvoiceDate  TotalAmount  UnitPrice  CustomerID         Country  \\\n",
       "0 2010-12-01 08:26:00        15.30       2.55       17850  United Kingdom   \n",
       "1 2010-12-01 08:26:00        20.34       3.39       17850  United Kingdom   \n",
       "2 2010-12-01 08:26:00        22.00       2.75       17850  United Kingdom   \n",
       "3 2010-12-01 08:26:00        20.34       3.39       17850  United Kingdom   \n",
       "4 2010-12-01 08:26:00        20.34       3.39       17850  United Kingdom   \n",
       "\n",
       "   Year  Mon     month  \n",
       "0  2010   12  December  \n",
       "1  2010   12  December  \n",
       "2  2010   12  December  \n",
       "3  2010   12  December  \n",
       "4  2010   12  December  "
      ]
     },
     "execution_count": 37,
     "metadata": {},
     "output_type": "execute_result"
    }
   ],
   "source": [
    "data = data[data['Country']=='United Kingdom']\n",
    "data.head()"
   ]
  },
  {
   "cell_type": "code",
   "execution_count": 38,
   "id": "2cc2ec32",
   "metadata": {},
   "outputs": [
    {
     "name": "stderr",
     "output_type": "stream",
     "text": [
      "C:\\Users\\tejas\\anaconda3\\lib\\site-packages\\ipykernel\\ipkernel.py:287: DeprecationWarning: `should_run_async` will not call `transform_cell` automatically in the future. Please pass the result to `transformed_cell` argument and any exception that happen during thetransform in `preprocessing_exc_tuple` in IPython 7.17 and above.\n",
      "  and should_run_async(code)\n"
     ]
    },
    {
     "data": {
      "text/html": [
       "<div>\n",
       "<style scoped>\n",
       "    .dataframe tbody tr th:only-of-type {\n",
       "        vertical-align: middle;\n",
       "    }\n",
       "\n",
       "    .dataframe tbody tr th {\n",
       "        vertical-align: top;\n",
       "    }\n",
       "\n",
       "    .dataframe thead th {\n",
       "        text-align: right;\n",
       "    }\n",
       "</style>\n",
       "<table border=\"1\" class=\"dataframe\">\n",
       "  <thead>\n",
       "    <tr style=\"text-align: right;\">\n",
       "      <th>Description</th>\n",
       "      <th>10 COLOUR SPACEBOY PEN</th>\n",
       "      <th>12 COLOURED PARTY BALLOONS</th>\n",
       "      <th>12 DAISY PEGS IN WOOD BOX</th>\n",
       "      <th>12 EGG HOUSE PAINTED WOOD</th>\n",
       "      <th>12 HANGING EGGS HAND PAINTED</th>\n",
       "      <th>12 IVORY ROSE PEG PLACE SETTINGS</th>\n",
       "      <th>12 MESSAGE CARDS WITH ENVELOPES</th>\n",
       "      <th>12 PENCIL SMALL TUBE WOODLAND</th>\n",
       "      <th>12 PENCILS SMALL TUBE RED RETROSPOT</th>\n",
       "      <th>12 PENCILS SMALL TUBE SKULL</th>\n",
       "      <th>...</th>\n",
       "      <th>ZINC STAR T-LIGHT HOLDER</th>\n",
       "      <th>ZINC SWEETHEART SOAP DISH</th>\n",
       "      <th>ZINC SWEETHEART WIRE LETTER RACK</th>\n",
       "      <th>ZINC T-LIGHT HOLDER STAR LARGE</th>\n",
       "      <th>ZINC T-LIGHT HOLDER STARS LARGE</th>\n",
       "      <th>ZINC T-LIGHT HOLDER STARS SMALL</th>\n",
       "      <th>ZINC TOP  2 DOOR WOODEN SHELF</th>\n",
       "      <th>ZINC WILLIE WINKIE  CANDLE STICK</th>\n",
       "      <th>ZINC WIRE KITCHEN ORGANISER</th>\n",
       "      <th>ZINC WIRE SWEETHEART LETTER TRAY</th>\n",
       "    </tr>\n",
       "    <tr>\n",
       "      <th>InvoiceNo</th>\n",
       "      <th></th>\n",
       "      <th></th>\n",
       "      <th></th>\n",
       "      <th></th>\n",
       "      <th></th>\n",
       "      <th></th>\n",
       "      <th></th>\n",
       "      <th></th>\n",
       "      <th></th>\n",
       "      <th></th>\n",
       "      <th></th>\n",
       "      <th></th>\n",
       "      <th></th>\n",
       "      <th></th>\n",
       "      <th></th>\n",
       "      <th></th>\n",
       "      <th></th>\n",
       "      <th></th>\n",
       "      <th></th>\n",
       "      <th></th>\n",
       "      <th></th>\n",
       "    </tr>\n",
       "  </thead>\n",
       "  <tbody>\n",
       "    <tr>\n",
       "      <th>536365</th>\n",
       "      <td>0.0</td>\n",
       "      <td>0.0</td>\n",
       "      <td>0.0</td>\n",
       "      <td>0.0</td>\n",
       "      <td>0.0</td>\n",
       "      <td>0.0</td>\n",
       "      <td>0.0</td>\n",
       "      <td>0.0</td>\n",
       "      <td>0.0</td>\n",
       "      <td>0.0</td>\n",
       "      <td>...</td>\n",
       "      <td>0.0</td>\n",
       "      <td>0.0</td>\n",
       "      <td>0.0</td>\n",
       "      <td>0.0</td>\n",
       "      <td>0.0</td>\n",
       "      <td>0.0</td>\n",
       "      <td>0.0</td>\n",
       "      <td>0.0</td>\n",
       "      <td>0.0</td>\n",
       "      <td>0.0</td>\n",
       "    </tr>\n",
       "    <tr>\n",
       "      <th>536366</th>\n",
       "      <td>0.0</td>\n",
       "      <td>0.0</td>\n",
       "      <td>0.0</td>\n",
       "      <td>0.0</td>\n",
       "      <td>0.0</td>\n",
       "      <td>0.0</td>\n",
       "      <td>0.0</td>\n",
       "      <td>0.0</td>\n",
       "      <td>0.0</td>\n",
       "      <td>0.0</td>\n",
       "      <td>...</td>\n",
       "      <td>0.0</td>\n",
       "      <td>0.0</td>\n",
       "      <td>0.0</td>\n",
       "      <td>0.0</td>\n",
       "      <td>0.0</td>\n",
       "      <td>0.0</td>\n",
       "      <td>0.0</td>\n",
       "      <td>0.0</td>\n",
       "      <td>0.0</td>\n",
       "      <td>0.0</td>\n",
       "    </tr>\n",
       "    <tr>\n",
       "      <th>536367</th>\n",
       "      <td>0.0</td>\n",
       "      <td>0.0</td>\n",
       "      <td>0.0</td>\n",
       "      <td>0.0</td>\n",
       "      <td>0.0</td>\n",
       "      <td>0.0</td>\n",
       "      <td>0.0</td>\n",
       "      <td>0.0</td>\n",
       "      <td>0.0</td>\n",
       "      <td>0.0</td>\n",
       "      <td>...</td>\n",
       "      <td>0.0</td>\n",
       "      <td>0.0</td>\n",
       "      <td>0.0</td>\n",
       "      <td>0.0</td>\n",
       "      <td>0.0</td>\n",
       "      <td>0.0</td>\n",
       "      <td>0.0</td>\n",
       "      <td>0.0</td>\n",
       "      <td>0.0</td>\n",
       "      <td>0.0</td>\n",
       "    </tr>\n",
       "    <tr>\n",
       "      <th>536368</th>\n",
       "      <td>0.0</td>\n",
       "      <td>0.0</td>\n",
       "      <td>0.0</td>\n",
       "      <td>0.0</td>\n",
       "      <td>0.0</td>\n",
       "      <td>0.0</td>\n",
       "      <td>0.0</td>\n",
       "      <td>0.0</td>\n",
       "      <td>0.0</td>\n",
       "      <td>0.0</td>\n",
       "      <td>...</td>\n",
       "      <td>0.0</td>\n",
       "      <td>0.0</td>\n",
       "      <td>0.0</td>\n",
       "      <td>0.0</td>\n",
       "      <td>0.0</td>\n",
       "      <td>0.0</td>\n",
       "      <td>0.0</td>\n",
       "      <td>0.0</td>\n",
       "      <td>0.0</td>\n",
       "      <td>0.0</td>\n",
       "    </tr>\n",
       "    <tr>\n",
       "      <th>536369</th>\n",
       "      <td>0.0</td>\n",
       "      <td>0.0</td>\n",
       "      <td>0.0</td>\n",
       "      <td>0.0</td>\n",
       "      <td>0.0</td>\n",
       "      <td>0.0</td>\n",
       "      <td>0.0</td>\n",
       "      <td>0.0</td>\n",
       "      <td>0.0</td>\n",
       "      <td>0.0</td>\n",
       "      <td>...</td>\n",
       "      <td>0.0</td>\n",
       "      <td>0.0</td>\n",
       "      <td>0.0</td>\n",
       "      <td>0.0</td>\n",
       "      <td>0.0</td>\n",
       "      <td>0.0</td>\n",
       "      <td>0.0</td>\n",
       "      <td>0.0</td>\n",
       "      <td>0.0</td>\n",
       "      <td>0.0</td>\n",
       "    </tr>\n",
       "  </tbody>\n",
       "</table>\n",
       "<p>5 rows × 3833 columns</p>\n",
       "</div>"
      ],
      "text/plain": [
       "Description  10 COLOUR SPACEBOY PEN  12 COLOURED PARTY BALLOONS  \\\n",
       "InvoiceNo                                                         \n",
       "536365                          0.0                         0.0   \n",
       "536366                          0.0                         0.0   \n",
       "536367                          0.0                         0.0   \n",
       "536368                          0.0                         0.0   \n",
       "536369                          0.0                         0.0   \n",
       "\n",
       "Description  12 DAISY PEGS IN WOOD BOX  12 EGG HOUSE PAINTED WOOD  \\\n",
       "InvoiceNo                                                           \n",
       "536365                             0.0                        0.0   \n",
       "536366                             0.0                        0.0   \n",
       "536367                             0.0                        0.0   \n",
       "536368                             0.0                        0.0   \n",
       "536369                             0.0                        0.0   \n",
       "\n",
       "Description  12 HANGING EGGS HAND PAINTED  12 IVORY ROSE PEG PLACE SETTINGS  \\\n",
       "InvoiceNo                                                                     \n",
       "536365                                0.0                               0.0   \n",
       "536366                                0.0                               0.0   \n",
       "536367                                0.0                               0.0   \n",
       "536368                                0.0                               0.0   \n",
       "536369                                0.0                               0.0   \n",
       "\n",
       "Description  12 MESSAGE CARDS WITH ENVELOPES  12 PENCIL SMALL TUBE WOODLAND  \\\n",
       "InvoiceNo                                                                     \n",
       "536365                                   0.0                            0.0   \n",
       "536366                                   0.0                            0.0   \n",
       "536367                                   0.0                            0.0   \n",
       "536368                                   0.0                            0.0   \n",
       "536369                                   0.0                            0.0   \n",
       "\n",
       "Description  12 PENCILS SMALL TUBE RED RETROSPOT  12 PENCILS SMALL TUBE SKULL  \\\n",
       "InvoiceNo                                                                       \n",
       "536365                                       0.0                          0.0   \n",
       "536366                                       0.0                          0.0   \n",
       "536367                                       0.0                          0.0   \n",
       "536368                                       0.0                          0.0   \n",
       "536369                                       0.0                          0.0   \n",
       "\n",
       "Description  ...  ZINC STAR T-LIGHT HOLDER  ZINC SWEETHEART SOAP DISH  \\\n",
       "InvoiceNo    ...                                                        \n",
       "536365       ...                       0.0                        0.0   \n",
       "536366       ...                       0.0                        0.0   \n",
       "536367       ...                       0.0                        0.0   \n",
       "536368       ...                       0.0                        0.0   \n",
       "536369       ...                       0.0                        0.0   \n",
       "\n",
       "Description  ZINC SWEETHEART WIRE LETTER RACK  ZINC T-LIGHT HOLDER STAR LARGE  \\\n",
       "InvoiceNo                                                                       \n",
       "536365                                    0.0                             0.0   \n",
       "536366                                    0.0                             0.0   \n",
       "536367                                    0.0                             0.0   \n",
       "536368                                    0.0                             0.0   \n",
       "536369                                    0.0                             0.0   \n",
       "\n",
       "Description  ZINC T-LIGHT HOLDER STARS LARGE  ZINC T-LIGHT HOLDER STARS SMALL  \\\n",
       "InvoiceNo                                                                       \n",
       "536365                                   0.0                              0.0   \n",
       "536366                                   0.0                              0.0   \n",
       "536367                                   0.0                              0.0   \n",
       "536368                                   0.0                              0.0   \n",
       "536369                                   0.0                              0.0   \n",
       "\n",
       "Description  ZINC TOP  2 DOOR WOODEN SHELF  ZINC WILLIE WINKIE  CANDLE STICK  \\\n",
       "InvoiceNo                                                                      \n",
       "536365                                 0.0                               0.0   \n",
       "536366                                 0.0                               0.0   \n",
       "536367                                 0.0                               0.0   \n",
       "536368                                 0.0                               0.0   \n",
       "536369                                 0.0                               0.0   \n",
       "\n",
       "Description  ZINC WIRE KITCHEN ORGANISER  ZINC WIRE SWEETHEART LETTER TRAY  \n",
       "InvoiceNo                                                                   \n",
       "536365                               0.0                               0.0  \n",
       "536366                               0.0                               0.0  \n",
       "536367                               0.0                               0.0  \n",
       "536368                               0.0                               0.0  \n",
       "536369                               0.0                               0.0  \n",
       "\n",
       "[5 rows x 3833 columns]"
      ]
     },
     "execution_count": 38,
     "metadata": {},
     "output_type": "execute_result"
    }
   ],
   "source": [
    "basket = data.groupby(['InvoiceNo','Description'])['Quantity'].sum().unstack().reset_index().fillna(0).set_index('InvoiceNo')\n",
    "basket.head()"
   ]
  },
  {
   "cell_type": "code",
   "execution_count": 39,
   "id": "6d136694",
   "metadata": {},
   "outputs": [
    {
     "name": "stderr",
     "output_type": "stream",
     "text": [
      "C:\\Users\\tejas\\anaconda3\\lib\\site-packages\\ipykernel\\ipkernel.py:287: DeprecationWarning: `should_run_async` will not call `transform_cell` automatically in the future. Please pass the result to `transformed_cell` argument and any exception that happen during thetransform in `preprocessing_exc_tuple` in IPython 7.17 and above.\n",
      "  and should_run_async(code)\n"
     ]
    },
    {
     "data": {
      "text/html": [
       "<div>\n",
       "<style scoped>\n",
       "    .dataframe tbody tr th:only-of-type {\n",
       "        vertical-align: middle;\n",
       "    }\n",
       "\n",
       "    .dataframe tbody tr th {\n",
       "        vertical-align: top;\n",
       "    }\n",
       "\n",
       "    .dataframe thead th {\n",
       "        text-align: right;\n",
       "    }\n",
       "</style>\n",
       "<table border=\"1\" class=\"dataframe\">\n",
       "  <thead>\n",
       "    <tr style=\"text-align: right;\">\n",
       "      <th>Description</th>\n",
       "      <th>10 COLOUR SPACEBOY PEN</th>\n",
       "      <th>12 COLOURED PARTY BALLOONS</th>\n",
       "      <th>12 DAISY PEGS IN WOOD BOX</th>\n",
       "      <th>12 EGG HOUSE PAINTED WOOD</th>\n",
       "      <th>12 HANGING EGGS HAND PAINTED</th>\n",
       "      <th>12 IVORY ROSE PEG PLACE SETTINGS</th>\n",
       "      <th>12 MESSAGE CARDS WITH ENVELOPES</th>\n",
       "      <th>12 PENCIL SMALL TUBE WOODLAND</th>\n",
       "      <th>12 PENCILS SMALL TUBE RED RETROSPOT</th>\n",
       "      <th>12 PENCILS SMALL TUBE SKULL</th>\n",
       "      <th>...</th>\n",
       "      <th>ZINC STAR T-LIGHT HOLDER</th>\n",
       "      <th>ZINC SWEETHEART SOAP DISH</th>\n",
       "      <th>ZINC SWEETHEART WIRE LETTER RACK</th>\n",
       "      <th>ZINC T-LIGHT HOLDER STAR LARGE</th>\n",
       "      <th>ZINC T-LIGHT HOLDER STARS LARGE</th>\n",
       "      <th>ZINC T-LIGHT HOLDER STARS SMALL</th>\n",
       "      <th>ZINC TOP  2 DOOR WOODEN SHELF</th>\n",
       "      <th>ZINC WILLIE WINKIE  CANDLE STICK</th>\n",
       "      <th>ZINC WIRE KITCHEN ORGANISER</th>\n",
       "      <th>ZINC WIRE SWEETHEART LETTER TRAY</th>\n",
       "    </tr>\n",
       "    <tr>\n",
       "      <th>InvoiceNo</th>\n",
       "      <th></th>\n",
       "      <th></th>\n",
       "      <th></th>\n",
       "      <th></th>\n",
       "      <th></th>\n",
       "      <th></th>\n",
       "      <th></th>\n",
       "      <th></th>\n",
       "      <th></th>\n",
       "      <th></th>\n",
       "      <th></th>\n",
       "      <th></th>\n",
       "      <th></th>\n",
       "      <th></th>\n",
       "      <th></th>\n",
       "      <th></th>\n",
       "      <th></th>\n",
       "      <th></th>\n",
       "      <th></th>\n",
       "      <th></th>\n",
       "      <th></th>\n",
       "    </tr>\n",
       "  </thead>\n",
       "  <tbody>\n",
       "    <tr>\n",
       "      <th>536365</th>\n",
       "      <td>0</td>\n",
       "      <td>0</td>\n",
       "      <td>0</td>\n",
       "      <td>0</td>\n",
       "      <td>0</td>\n",
       "      <td>0</td>\n",
       "      <td>0</td>\n",
       "      <td>0</td>\n",
       "      <td>0</td>\n",
       "      <td>0</td>\n",
       "      <td>...</td>\n",
       "      <td>0</td>\n",
       "      <td>0</td>\n",
       "      <td>0</td>\n",
       "      <td>0</td>\n",
       "      <td>0</td>\n",
       "      <td>0</td>\n",
       "      <td>0</td>\n",
       "      <td>0</td>\n",
       "      <td>0</td>\n",
       "      <td>0</td>\n",
       "    </tr>\n",
       "    <tr>\n",
       "      <th>536366</th>\n",
       "      <td>0</td>\n",
       "      <td>0</td>\n",
       "      <td>0</td>\n",
       "      <td>0</td>\n",
       "      <td>0</td>\n",
       "      <td>0</td>\n",
       "      <td>0</td>\n",
       "      <td>0</td>\n",
       "      <td>0</td>\n",
       "      <td>0</td>\n",
       "      <td>...</td>\n",
       "      <td>0</td>\n",
       "      <td>0</td>\n",
       "      <td>0</td>\n",
       "      <td>0</td>\n",
       "      <td>0</td>\n",
       "      <td>0</td>\n",
       "      <td>0</td>\n",
       "      <td>0</td>\n",
       "      <td>0</td>\n",
       "      <td>0</td>\n",
       "    </tr>\n",
       "    <tr>\n",
       "      <th>536367</th>\n",
       "      <td>0</td>\n",
       "      <td>0</td>\n",
       "      <td>0</td>\n",
       "      <td>0</td>\n",
       "      <td>0</td>\n",
       "      <td>0</td>\n",
       "      <td>0</td>\n",
       "      <td>0</td>\n",
       "      <td>0</td>\n",
       "      <td>0</td>\n",
       "      <td>...</td>\n",
       "      <td>0</td>\n",
       "      <td>0</td>\n",
       "      <td>0</td>\n",
       "      <td>0</td>\n",
       "      <td>0</td>\n",
       "      <td>0</td>\n",
       "      <td>0</td>\n",
       "      <td>0</td>\n",
       "      <td>0</td>\n",
       "      <td>0</td>\n",
       "    </tr>\n",
       "    <tr>\n",
       "      <th>536368</th>\n",
       "      <td>0</td>\n",
       "      <td>0</td>\n",
       "      <td>0</td>\n",
       "      <td>0</td>\n",
       "      <td>0</td>\n",
       "      <td>0</td>\n",
       "      <td>0</td>\n",
       "      <td>0</td>\n",
       "      <td>0</td>\n",
       "      <td>0</td>\n",
       "      <td>...</td>\n",
       "      <td>0</td>\n",
       "      <td>0</td>\n",
       "      <td>0</td>\n",
       "      <td>0</td>\n",
       "      <td>0</td>\n",
       "      <td>0</td>\n",
       "      <td>0</td>\n",
       "      <td>0</td>\n",
       "      <td>0</td>\n",
       "      <td>0</td>\n",
       "    </tr>\n",
       "    <tr>\n",
       "      <th>536369</th>\n",
       "      <td>0</td>\n",
       "      <td>0</td>\n",
       "      <td>0</td>\n",
       "      <td>0</td>\n",
       "      <td>0</td>\n",
       "      <td>0</td>\n",
       "      <td>0</td>\n",
       "      <td>0</td>\n",
       "      <td>0</td>\n",
       "      <td>0</td>\n",
       "      <td>...</td>\n",
       "      <td>0</td>\n",
       "      <td>0</td>\n",
       "      <td>0</td>\n",
       "      <td>0</td>\n",
       "      <td>0</td>\n",
       "      <td>0</td>\n",
       "      <td>0</td>\n",
       "      <td>0</td>\n",
       "      <td>0</td>\n",
       "      <td>0</td>\n",
       "    </tr>\n",
       "  </tbody>\n",
       "</table>\n",
       "<p>5 rows × 3832 columns</p>\n",
       "</div>"
      ],
      "text/plain": [
       "Description  10 COLOUR SPACEBOY PEN  12 COLOURED PARTY BALLOONS  \\\n",
       "InvoiceNo                                                         \n",
       "536365                            0                           0   \n",
       "536366                            0                           0   \n",
       "536367                            0                           0   \n",
       "536368                            0                           0   \n",
       "536369                            0                           0   \n",
       "\n",
       "Description  12 DAISY PEGS IN WOOD BOX  12 EGG HOUSE PAINTED WOOD  \\\n",
       "InvoiceNo                                                           \n",
       "536365                               0                          0   \n",
       "536366                               0                          0   \n",
       "536367                               0                          0   \n",
       "536368                               0                          0   \n",
       "536369                               0                          0   \n",
       "\n",
       "Description  12 HANGING EGGS HAND PAINTED  12 IVORY ROSE PEG PLACE SETTINGS  \\\n",
       "InvoiceNo                                                                     \n",
       "536365                                  0                                 0   \n",
       "536366                                  0                                 0   \n",
       "536367                                  0                                 0   \n",
       "536368                                  0                                 0   \n",
       "536369                                  0                                 0   \n",
       "\n",
       "Description  12 MESSAGE CARDS WITH ENVELOPES  12 PENCIL SMALL TUBE WOODLAND  \\\n",
       "InvoiceNo                                                                     \n",
       "536365                                     0                              0   \n",
       "536366                                     0                              0   \n",
       "536367                                     0                              0   \n",
       "536368                                     0                              0   \n",
       "536369                                     0                              0   \n",
       "\n",
       "Description  12 PENCILS SMALL TUBE RED RETROSPOT  12 PENCILS SMALL TUBE SKULL  \\\n",
       "InvoiceNo                                                                       \n",
       "536365                                         0                            0   \n",
       "536366                                         0                            0   \n",
       "536367                                         0                            0   \n",
       "536368                                         0                            0   \n",
       "536369                                         0                            0   \n",
       "\n",
       "Description  ...  ZINC STAR T-LIGHT HOLDER  ZINC SWEETHEART SOAP DISH  \\\n",
       "InvoiceNo    ...                                                        \n",
       "536365       ...                         0                          0   \n",
       "536366       ...                         0                          0   \n",
       "536367       ...                         0                          0   \n",
       "536368       ...                         0                          0   \n",
       "536369       ...                         0                          0   \n",
       "\n",
       "Description  ZINC SWEETHEART WIRE LETTER RACK  ZINC T-LIGHT HOLDER STAR LARGE  \\\n",
       "InvoiceNo                                                                       \n",
       "536365                                      0                               0   \n",
       "536366                                      0                               0   \n",
       "536367                                      0                               0   \n",
       "536368                                      0                               0   \n",
       "536369                                      0                               0   \n",
       "\n",
       "Description  ZINC T-LIGHT HOLDER STARS LARGE  ZINC T-LIGHT HOLDER STARS SMALL  \\\n",
       "InvoiceNo                                                                       \n",
       "536365                                     0                                0   \n",
       "536366                                     0                                0   \n",
       "536367                                     0                                0   \n",
       "536368                                     0                                0   \n",
       "536369                                     0                                0   \n",
       "\n",
       "Description  ZINC TOP  2 DOOR WOODEN SHELF  ZINC WILLIE WINKIE  CANDLE STICK  \\\n",
       "InvoiceNo                                                                      \n",
       "536365                                   0                                 0   \n",
       "536366                                   0                                 0   \n",
       "536367                                   0                                 0   \n",
       "536368                                   0                                 0   \n",
       "536369                                   0                                 0   \n",
       "\n",
       "Description  ZINC WIRE KITCHEN ORGANISER  ZINC WIRE SWEETHEART LETTER TRAY  \n",
       "InvoiceNo                                                                   \n",
       "536365                                 0                                 0  \n",
       "536366                                 0                                 0  \n",
       "536367                                 0                                 0  \n",
       "536368                                 0                                 0  \n",
       "536369                                 0                                 0  \n",
       "\n",
       "[5 rows x 3832 columns]"
      ]
     },
     "execution_count": 39,
     "metadata": {},
     "output_type": "execute_result"
    }
   ],
   "source": [
    "def encode_units(x):\n",
    "    if x <= 0:\n",
    "        return 0\n",
    "    if x >= 1:\n",
    "        return 1\n",
    "basket_sets = basket.applymap(encode_units)\n",
    "basket_sets.drop('POSTAGE', axis = 1, inplace = True)\n",
    "basket_sets.head()"
   ]
  },
  {
   "cell_type": "code",
   "execution_count": 40,
   "id": "ea9616aa",
   "metadata": {},
   "outputs": [
    {
     "name": "stderr",
     "output_type": "stream",
     "text": [
      "C:\\Users\\tejas\\anaconda3\\lib\\site-packages\\ipykernel\\ipkernel.py:287: DeprecationWarning: `should_run_async` will not call `transform_cell` automatically in the future. Please pass the result to `transformed_cell` argument and any exception that happen during thetransform in `preprocessing_exc_tuple` in IPython 7.17 and above.\n",
      "  and should_run_async(code)\n",
      "C:\\Users\\tejas\\anaconda3\\lib\\site-packages\\mlxtend\\frequent_patterns\\fpcommon.py:110: DeprecationWarning: DataFrames with non-bool types result in worse computationalperformance and their support might be discontinued in the future.Please use a DataFrame with bool type\n",
      "  warnings.warn(\n"
     ]
    }
   ],
   "source": [
    "frequent_itemsets = apriori(basket_sets, min_support = 0.02, use_colnames= True)"
   ]
  },
  {
   "cell_type": "code",
   "execution_count": 41,
   "id": "72042f8a",
   "metadata": {},
   "outputs": [
    {
     "name": "stderr",
     "output_type": "stream",
     "text": [
      "C:\\Users\\tejas\\anaconda3\\lib\\site-packages\\ipykernel\\ipkernel.py:287: DeprecationWarning: `should_run_async` will not call `transform_cell` automatically in the future. Please pass the result to `transformed_cell` argument and any exception that happen during thetransform in `preprocessing_exc_tuple` in IPython 7.17 and above.\n",
      "  and should_run_async(code)\n"
     ]
    },
    {
     "data": {
      "text/html": [
       "<div>\n",
       "<style scoped>\n",
       "    .dataframe tbody tr th:only-of-type {\n",
       "        vertical-align: middle;\n",
       "    }\n",
       "\n",
       "    .dataframe tbody tr th {\n",
       "        vertical-align: top;\n",
       "    }\n",
       "\n",
       "    .dataframe thead th {\n",
       "        text-align: right;\n",
       "    }\n",
       "</style>\n",
       "<table border=\"1\" class=\"dataframe\">\n",
       "  <thead>\n",
       "    <tr style=\"text-align: right;\">\n",
       "      <th></th>\n",
       "      <th>antecedents</th>\n",
       "      <th>consequents</th>\n",
       "      <th>antecedent support</th>\n",
       "      <th>consequent support</th>\n",
       "      <th>support</th>\n",
       "      <th>confidence</th>\n",
       "      <th>lift</th>\n",
       "      <th>leverage</th>\n",
       "      <th>conviction</th>\n",
       "      <th>zhangs_metric</th>\n",
       "    </tr>\n",
       "  </thead>\n",
       "  <tbody>\n",
       "    <tr>\n",
       "      <th>12</th>\n",
       "      <td>(JUMBO BAG PINK POLKADOT)</td>\n",
       "      <td>(JUMBO BAG RED RETROSPOT)</td>\n",
       "      <td>0.048772</td>\n",
       "      <td>0.086912</td>\n",
       "      <td>0.030392</td>\n",
       "      <td>0.623153</td>\n",
       "      <td>7.169917</td>\n",
       "      <td>0.026153</td>\n",
       "      <td>2.422965</td>\n",
       "      <td>0.904650</td>\n",
       "    </tr>\n",
       "    <tr>\n",
       "      <th>13</th>\n",
       "      <td>(JUMBO BAG RED RETROSPOT)</td>\n",
       "      <td>(JUMBO BAG PINK POLKADOT)</td>\n",
       "      <td>0.086912</td>\n",
       "      <td>0.048772</td>\n",
       "      <td>0.030392</td>\n",
       "      <td>0.349689</td>\n",
       "      <td>7.169917</td>\n",
       "      <td>0.026153</td>\n",
       "      <td>1.462728</td>\n",
       "      <td>0.942438</td>\n",
       "    </tr>\n",
       "    <tr>\n",
       "      <th>27</th>\n",
       "      <td>(LUNCH BAG RED RETROSPOT)</td>\n",
       "      <td>(LUNCH BAG  BLACK SKULL.)</td>\n",
       "      <td>0.067271</td>\n",
       "      <td>0.059823</td>\n",
       "      <td>0.029071</td>\n",
       "      <td>0.432143</td>\n",
       "      <td>7.223641</td>\n",
       "      <td>0.025046</td>\n",
       "      <td>1.655657</td>\n",
       "      <td>0.923704</td>\n",
       "    </tr>\n",
       "    <tr>\n",
       "      <th>26</th>\n",
       "      <td>(LUNCH BAG  BLACK SKULL.)</td>\n",
       "      <td>(LUNCH BAG RED RETROSPOT)</td>\n",
       "      <td>0.059823</td>\n",
       "      <td>0.067271</td>\n",
       "      <td>0.029071</td>\n",
       "      <td>0.485944</td>\n",
       "      <td>7.223641</td>\n",
       "      <td>0.025046</td>\n",
       "      <td>1.814449</td>\n",
       "      <td>0.916387</td>\n",
       "    </tr>\n",
       "    <tr>\n",
       "      <th>6</th>\n",
       "      <td>(GREEN REGENCY TEACUP AND SAUCER)</td>\n",
       "      <td>(ROSES REGENCY TEACUP AND SAUCER)</td>\n",
       "      <td>0.036759</td>\n",
       "      <td>0.040723</td>\n",
       "      <td>0.028590</td>\n",
       "      <td>0.777778</td>\n",
       "      <td>19.099148</td>\n",
       "      <td>0.027093</td>\n",
       "      <td>4.316746</td>\n",
       "      <td>0.983805</td>\n",
       "    </tr>\n",
       "    <tr>\n",
       "      <th>...</th>\n",
       "      <td>...</td>\n",
       "      <td>...</td>\n",
       "      <td>...</td>\n",
       "      <td>...</td>\n",
       "      <td>...</td>\n",
       "      <td>...</td>\n",
       "      <td>...</td>\n",
       "      <td>...</td>\n",
       "      <td>...</td>\n",
       "      <td>...</td>\n",
       "    </tr>\n",
       "    <tr>\n",
       "      <th>45</th>\n",
       "      <td>(LUNCH BAG SPACEBOY DESIGN)</td>\n",
       "      <td>(LUNCH BAG PINK POLKADOT)</td>\n",
       "      <td>0.052436</td>\n",
       "      <td>0.050934</td>\n",
       "      <td>0.020061</td>\n",
       "      <td>0.382589</td>\n",
       "      <td>7.511463</td>\n",
       "      <td>0.017391</td>\n",
       "      <td>1.537170</td>\n",
       "      <td>0.914840</td>\n",
       "    </tr>\n",
       "    <tr>\n",
       "      <th>32</th>\n",
       "      <td>(LUNCH BAG APPLE DESIGN)</td>\n",
       "      <td>(LUNCH BAG RED RETROSPOT)</td>\n",
       "      <td>0.044807</td>\n",
       "      <td>0.067271</td>\n",
       "      <td>0.020001</td>\n",
       "      <td>0.446381</td>\n",
       "      <td>6.635529</td>\n",
       "      <td>0.016987</td>\n",
       "      <td>1.684784</td>\n",
       "      <td>0.889136</td>\n",
       "    </tr>\n",
       "    <tr>\n",
       "      <th>33</th>\n",
       "      <td>(LUNCH BAG RED RETROSPOT)</td>\n",
       "      <td>(LUNCH BAG APPLE DESIGN)</td>\n",
       "      <td>0.067271</td>\n",
       "      <td>0.044807</td>\n",
       "      <td>0.020001</td>\n",
       "      <td>0.297321</td>\n",
       "      <td>6.635529</td>\n",
       "      <td>0.016987</td>\n",
       "      <td>1.359359</td>\n",
       "      <td>0.910550</td>\n",
       "    </tr>\n",
       "    <tr>\n",
       "      <th>46</th>\n",
       "      <td>(LUNCH BAG SUKI DESIGN)</td>\n",
       "      <td>(LUNCH BAG PINK POLKADOT)</td>\n",
       "      <td>0.050213</td>\n",
       "      <td>0.050934</td>\n",
       "      <td>0.020001</td>\n",
       "      <td>0.398325</td>\n",
       "      <td>7.820423</td>\n",
       "      <td>0.017444</td>\n",
       "      <td>1.577374</td>\n",
       "      <td>0.918237</td>\n",
       "    </tr>\n",
       "    <tr>\n",
       "      <th>47</th>\n",
       "      <td>(LUNCH BAG PINK POLKADOT)</td>\n",
       "      <td>(LUNCH BAG SUKI DESIGN)</td>\n",
       "      <td>0.050934</td>\n",
       "      <td>0.050213</td>\n",
       "      <td>0.020001</td>\n",
       "      <td>0.392689</td>\n",
       "      <td>7.820423</td>\n",
       "      <td>0.017444</td>\n",
       "      <td>1.563921</td>\n",
       "      <td>0.918935</td>\n",
       "    </tr>\n",
       "  </tbody>\n",
       "</table>\n",
       "<p>76 rows × 10 columns</p>\n",
       "</div>"
      ],
      "text/plain": [
       "                          antecedents                        consequents  \\\n",
       "12          (JUMBO BAG PINK POLKADOT)          (JUMBO BAG RED RETROSPOT)   \n",
       "13          (JUMBO BAG RED RETROSPOT)          (JUMBO BAG PINK POLKADOT)   \n",
       "27          (LUNCH BAG RED RETROSPOT)          (LUNCH BAG  BLACK SKULL.)   \n",
       "26          (LUNCH BAG  BLACK SKULL.)          (LUNCH BAG RED RETROSPOT)   \n",
       "6   (GREEN REGENCY TEACUP AND SAUCER)  (ROSES REGENCY TEACUP AND SAUCER)   \n",
       "..                                ...                                ...   \n",
       "45        (LUNCH BAG SPACEBOY DESIGN)          (LUNCH BAG PINK POLKADOT)   \n",
       "32           (LUNCH BAG APPLE DESIGN)          (LUNCH BAG RED RETROSPOT)   \n",
       "33          (LUNCH BAG RED RETROSPOT)           (LUNCH BAG APPLE DESIGN)   \n",
       "46            (LUNCH BAG SUKI DESIGN)          (LUNCH BAG PINK POLKADOT)   \n",
       "47          (LUNCH BAG PINK POLKADOT)            (LUNCH BAG SUKI DESIGN)   \n",
       "\n",
       "    antecedent support  consequent support   support  confidence       lift  \\\n",
       "12            0.048772            0.086912  0.030392    0.623153   7.169917   \n",
       "13            0.086912            0.048772  0.030392    0.349689   7.169917   \n",
       "27            0.067271            0.059823  0.029071    0.432143   7.223641   \n",
       "26            0.059823            0.067271  0.029071    0.485944   7.223641   \n",
       "6             0.036759            0.040723  0.028590    0.777778  19.099148   \n",
       "..                 ...                 ...       ...         ...        ...   \n",
       "45            0.052436            0.050934  0.020061    0.382589   7.511463   \n",
       "32            0.044807            0.067271  0.020001    0.446381   6.635529   \n",
       "33            0.067271            0.044807  0.020001    0.297321   6.635529   \n",
       "46            0.050213            0.050934  0.020001    0.398325   7.820423   \n",
       "47            0.050934            0.050213  0.020001    0.392689   7.820423   \n",
       "\n",
       "    leverage  conviction  zhangs_metric  \n",
       "12  0.026153    2.422965       0.904650  \n",
       "13  0.026153    1.462728       0.942438  \n",
       "27  0.025046    1.655657       0.923704  \n",
       "26  0.025046    1.814449       0.916387  \n",
       "6   0.027093    4.316746       0.983805  \n",
       "..       ...         ...            ...  \n",
       "45  0.017391    1.537170       0.914840  \n",
       "32  0.016987    1.684784       0.889136  \n",
       "33  0.016987    1.359359       0.910550  \n",
       "46  0.017444    1.577374       0.918237  \n",
       "47  0.017444    1.563921       0.918935  \n",
       "\n",
       "[76 rows x 10 columns]"
      ]
     },
     "execution_count": 41,
     "metadata": {},
     "output_type": "execute_result"
    }
   ],
   "source": [
    "rules = association_rules(frequent_itemsets, metric=\"lift\", min_threshold=1)\n",
    "rules.sort_values('support', ascending=False)"
   ]
  },
  {
   "cell_type": "code",
   "execution_count": 42,
   "id": "3c8b2941",
   "metadata": {},
   "outputs": [
    {
     "name": "stderr",
     "output_type": "stream",
     "text": [
      "C:\\Users\\tejas\\anaconda3\\lib\\site-packages\\ipykernel\\ipkernel.py:287: DeprecationWarning: `should_run_async` will not call `transform_cell` automatically in the future. Please pass the result to `transformed_cell` argument and any exception that happen during thetransform in `preprocessing_exc_tuple` in IPython 7.17 and above.\n",
      "  and should_run_async(code)\n"
     ]
    },
    {
     "data": {
      "image/png": "[encoded data removed]",
      "text/plain": [
       "<Figure size 432x288 with 1 Axes>"
      ]
     },
     "metadata": {
      "needs_background": "light"
     },
     "output_type": "display_data"
    }
   ],
   "source": [
    "import seaborn as sns\n",
    "import matplotlib.pyplot as plt\n",
    "\n",
    "\n",
    "# Generate scatterplot using support and confidence\n",
    "sns.scatterplot(x = \"support\", y = \"confidence\", \n",
    "                size = \"lift\", data = rules)\n",
    "plt.show()"
   ]
  },
  {
   "cell_type": "code",
   "execution_count": 43,
   "id": "8a187595",
   "metadata": {},
   "outputs": [
    {
     "name": "stderr",
     "output_type": "stream",
     "text": [
      "C:\\Users\\tejas\\anaconda3\\lib\\site-packages\\ipykernel\\ipkernel.py:287: DeprecationWarning: `should_run_async` will not call `transform_cell` automatically in the future. Please pass the result to `transformed_cell` argument and any exception that happen during thetransform in `preprocessing_exc_tuple` in IPython 7.17 and above.\n",
      "  and should_run_async(code)\n"
     ]
    },
    {
     "data": {
      "text/html": [
       "<div>\n",
       "<style scoped>\n",
       "    .dataframe tbody tr th:only-of-type {\n",
       "        vertical-align: middle;\n",
       "    }\n",
       "\n",
       "    .dataframe tbody tr th {\n",
       "        vertical-align: top;\n",
       "    }\n",
       "\n",
       "    .dataframe thead th {\n",
       "        text-align: right;\n",
       "    }\n",
       "</style>\n",
       "<table border=\"1\" class=\"dataframe\">\n",
       "  <thead>\n",
       "    <tr style=\"text-align: right;\">\n",
       "      <th></th>\n",
       "      <th>antecedents</th>\n",
       "      <th>consequents</th>\n",
       "      <th>antecedent support</th>\n",
       "      <th>consequent support</th>\n",
       "      <th>support</th>\n",
       "      <th>confidence</th>\n",
       "      <th>lift</th>\n",
       "      <th>leverage</th>\n",
       "      <th>conviction</th>\n",
       "      <th>zhangs_metric</th>\n",
       "    </tr>\n",
       "  </thead>\n",
       "  <tbody>\n",
       "    <tr>\n",
       "      <th>5</th>\n",
       "      <td>(PINK REGENCY TEACUP AND SAUCER)</td>\n",
       "      <td>(GREEN REGENCY TEACUP AND SAUCER)</td>\n",
       "      <td>0.029611</td>\n",
       "      <td>0.036759</td>\n",
       "      <td>0.024266</td>\n",
       "      <td>0.819473</td>\n",
       "      <td>22.293137</td>\n",
       "      <td>0.023177</td>\n",
       "      <td>5.335706</td>\n",
       "      <td>0.984289</td>\n",
       "    </tr>\n",
       "    <tr>\n",
       "      <th>71</th>\n",
       "      <td>(GREEN REGENCY TEACUP AND SAUCER, PINK REGENCY...</td>\n",
       "      <td>(ROSES REGENCY TEACUP AND SAUCER)</td>\n",
       "      <td>0.024266</td>\n",
       "      <td>0.040723</td>\n",
       "      <td>0.020482</td>\n",
       "      <td>0.844059</td>\n",
       "      <td>20.726763</td>\n",
       "      <td>0.019494</td>\n",
       "      <td>6.151553</td>\n",
       "      <td>0.975423</td>\n",
       "    </tr>\n",
       "    <tr>\n",
       "      <th>72</th>\n",
       "      <td>(ROSES REGENCY TEACUP AND SAUCER, PINK REGENCY...</td>\n",
       "      <td>(GREEN REGENCY TEACUP AND SAUCER)</td>\n",
       "      <td>0.023004</td>\n",
       "      <td>0.036759</td>\n",
       "      <td>0.020482</td>\n",
       "      <td>0.890339</td>\n",
       "      <td>24.221015</td>\n",
       "      <td>0.019636</td>\n",
       "      <td>8.783841</td>\n",
       "      <td>0.981287</td>\n",
       "    </tr>\n",
       "  </tbody>\n",
       "</table>\n",
       "</div>"
      ],
      "text/plain": [
       "                                          antecedents  \\\n",
       "5                    (PINK REGENCY TEACUP AND SAUCER)   \n",
       "71  (GREEN REGENCY TEACUP AND SAUCER, PINK REGENCY...   \n",
       "72  (ROSES REGENCY TEACUP AND SAUCER, PINK REGENCY...   \n",
       "\n",
       "                          consequents  antecedent support  consequent support  \\\n",
       "5   (GREEN REGENCY TEACUP AND SAUCER)            0.029611            0.036759   \n",
       "71  (ROSES REGENCY TEACUP AND SAUCER)            0.024266            0.040723   \n",
       "72  (GREEN REGENCY TEACUP AND SAUCER)            0.023004            0.036759   \n",
       "\n",
       "     support  confidence       lift  leverage  conviction  zhangs_metric  \n",
       "5   0.024266    0.819473  22.293137  0.023177    5.335706       0.984289  \n",
       "71  0.020482    0.844059  20.726763  0.019494    6.151553       0.975423  \n",
       "72  0.020482    0.890339  24.221015  0.019636    8.783841       0.981287  "
      ]
     },
     "execution_count": 43,
     "metadata": {},
     "output_type": "execute_result"
    }
   ],
   "source": [
    "rules[ (rules['lift'] >= 6) &\n",
    "       (rules['confidence'] >= 0.8) ]"
   ]
  },
  {
   "cell_type": "code",
   "execution_count": 44,
   "id": "4a926b6c",
   "metadata": {},
   "outputs": [
    {
     "name": "stdout",
     "output_type": "stream",
     "text": [
      "ALARM CLOCK BAKELIKE GREEN :  4867.0\n",
      "ALARM CLOCK BAKELIKE RED :  6070.0\n"
     ]
    },
    {
     "name": "stderr",
     "output_type": "stream",
     "text": [
      "C:\\Users\\tejas\\anaconda3\\lib\\site-packages\\ipykernel\\ipkernel.py:287: DeprecationWarning: `should_run_async` will not call `transform_cell` automatically in the future. Please pass the result to `transformed_cell` argument and any exception that happen during thetransform in `preprocessing_exc_tuple` in IPython 7.17 and above.\n",
      "  and should_run_async(code)\n"
     ]
    }
   ],
   "source": [
    "print(\"ALARM CLOCK BAKELIKE GREEN : \",basket['ALARM CLOCK BAKELIKE GREEN'].sum())\n",
    "print(\"ALARM CLOCK BAKELIKE RED : \",basket['ALARM CLOCK BAKELIKE RED'].sum())"
   ]
  },
  {
   "cell_type": "markdown",
   "id": "f8ede8c4",
   "metadata": {},
   "source": [
    "#### Conclusion Market Basket Analysis\n",
    "From the market basket analysis, it is found that customers who buy PINK REGENCY TEACUP AND SAUCER tend to buy GREEN REGENCY TEACUP AND SAUCER. The three most frequent associations for lift over 6 and confidence above 8 are items related to teacup and saucer. Perhaps we can provide more color variants on the teacup. "
   ]
  },
  {
   "cell_type": "code",
   "execution_count": null,
   "id": "47d4682b",
   "metadata": {},
   "outputs": [],
   "source": []
  }
 ],
 "metadata": {
  "kernelspec": {
   "display_name": "Python 3",
   "language": "python",
   "name": "python3"
  },
  "language_info": {
   "codemirror_mode": {
    "name": "ipython",
    "version": 3
   },
   "file_extension": ".py",
   "mimetype": "text/x-python",
   "name": "python",
   "nbconvert_exporter": "python",
   "pygments_lexer": "ipython3",
   "version": "3.8.8"
  }
 },
 "nbformat": 4,
 "nbformat_minor": 5
}
